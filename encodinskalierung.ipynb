{
  "cells": [
    {
      "cell_type": "markdown",
      "source": [
        "[link text](https://)<style>\n",
        "    .gradient-background {\n",
        "        background: linear-gradient(to right, #b3ffb3, #006600);\n",
        "        padding: 10px;\n",
        "        border-radius: 5px;\n",
        "    }\n",
        "</style>\n",
        "\n",
        "<div class=\"gradient-background\">\n",
        "    <h1>Encoding, Skalierung</h1>\n",
        "</div>\n",
        "</div>"
      ],
      "metadata": {
        "id": "_mdOztoDVSJp"
      },
      "id": "_mdOztoDVSJp"
    },
    {
      "cell_type": "code",
      "execution_count": null,
      "id": "58e3bcf1-fef8-475f-884c-fa4184ff7515",
      "metadata": {
        "id": "58e3bcf1-fef8-475f-884c-fa4184ff7515"
      },
      "outputs": [],
      "source": [
        "import pandas as pd"
      ]
    },
    {
      "cell_type": "code",
      "execution_count": null,
      "id": "0f164463-e705-4a34-9c22-569ac52c4bbb",
      "metadata": {
        "id": "0f164463-e705-4a34-9c22-569ac52c4bbb"
      },
      "outputs": [],
      "source": [
        "df = pd.read_csv(\"ber_data.csv\")"
      ]
    },
    {
      "cell_type": "code",
      "execution_count": null,
      "id": "42fd0e46-842e-460d-8962-97be9dcc549b",
      "metadata": {
        "id": "42fd0e46-842e-460d-8962-97be9dcc549b"
      },
      "outputs": [],
      "source": [
        "df.rename(columns = {'Marka':'Marke', 'Seri':'Serie',\n",
        "                              'Model':'Modell', 'Yıl':'Jahr','Kilometre':'Kilometer','Vites Tipi':'Getriebetyp','Yakıt Tipi':'Kraftstoffart','Kasa Tipi':'Karosserieart','Renk':'Farbe','Motor Hacmi':'Motorhubraum','Motor Gücü':'Motorleistung','Çekiş':'Antrieb','Ort. Yakıt Tüketimi':'Durchschnittlicher Kraftstoffverbrauch','Yakıt Deposu':'Kraftstofftank','Boya-değişen':'Lackwechsel','Fiyat':'Preis','Yaş':'Alter'}, inplace = True)"
      ]
    },
    {
      "cell_type": "code",
      "execution_count": null,
      "id": "f57da9cf-0412-478b-9f65-3907f3ee7944",
      "metadata": {
        "id": "f57da9cf-0412-478b-9f65-3907f3ee7944"
      },
      "outputs": [],
      "source": [
        "df.to_csv(\"bereinigung_deutsch.csv\", index=False)"
      ]
    },
    {
      "cell_type": "markdown",
      "source": [
        "Es ist wichtig, dass kategoriale Daten kodiert werden, damit sie im Modellierungsprozess verwendet werden können. Der Kodierungsprozess wandelt kategoriale Daten in ein numerisches Format um und macht diese Daten für Modelle des maschinellen Lernens verständlich. Und wir haben One-Hot-Kodierung verwendet, um unsere kategorialen Daten zu transformieren, und für jeden Datentyp wurde eine separate Spalte erstellt."
      ],
      "metadata": {
        "id": "k0OKtDsAkm74"
      },
      "id": "k0OKtDsAkm74"
    },
    {
      "cell_type": "code",
      "execution_count": null,
      "id": "344824bc-be18-4dfd-a3c8-835c1787b0b9",
      "metadata": {
        "id": "344824bc-be18-4dfd-a3c8-835c1787b0b9",
        "outputId": "7dd7a929-f171-446d-d8e1-8c3e04cdfb0d"
      },
      "outputs": [
        {
          "data": {
            "text/plain": [
              "Index(['Unnamed: 0', 'Marke', 'Serie', 'Modell', 'Kilometer', 'Getriebetyp',\n",
              "       'Kraftstoffart', 'Karosserieart', 'Farbe', 'Motorhubraum',\n",
              "       'Motorleistung', 'Antrieb', 'Durchschnittlicher Kraftstoffverbrauch',\n",
              "       'Kraftstofftank', 'Lackwechsel', 'Preis', 'Alter'],\n",
              "      dtype='object')"
            ]
          },
          "execution_count": 82,
          "metadata": {},
          "output_type": "execute_result"
        }
      ],
      "source": [
        "df.columns"
      ]
    },
    {
      "cell_type": "markdown",
      "source": [
        " Wir verschlüsseln kategoriale Daten wie „Getriebetyp“, „Kraftstoffart“, Karosserieart“, „Farbe“, „Antrieb“, „Marke“."
      ],
      "metadata": {
        "id": "J8mRPwo8liuI"
      },
      "id": "J8mRPwo8liuI"
    },
    {
      "cell_type": "code",
      "execution_count": null,
      "id": "6bc1df1f-3bbc-4264-ab23-c6e6d556e4ee",
      "metadata": {
        "id": "6bc1df1f-3bbc-4264-ab23-c6e6d556e4ee"
      },
      "outputs": [],
      "source": [
        "x_encoded = df[['Getriebetyp', 'Kraftstoffart',\n",
        "       'Karosserieart', 'Farbe' ,\"Antrieb\", \"Marke\"]]\n",
        "#x_encoded = Serie', 'Modell', 'Kilometer', 'Getriebetyp', 'Kraftstoffart',\n",
        " #      'Karosserieart', 'Farbe', 'Motorhubraum', 'Motorleistung', 'Antrieb"
      ]
    },
    {
      "cell_type": "markdown",
      "source": [
        "Da für jeden eindeutigen Wert eine Spalte erstellt wird, verwenden wir die Funktion nunique, um die Anzahl der neu erstellten Spalten zu ermitteln und deren Anzahl herauszufinden. Insgesamt wurden aufgrund dieses Prinzips 63 weitere Spalten in unserem Datensatz erstellt."
      ],
      "metadata": {
        "id": "uBKmcXMol8D2"
      },
      "id": "uBKmcXMol8D2"
    },
    {
      "cell_type": "code",
      "execution_count": null,
      "id": "89262615-6121-4317-ae78-f35a2c3d842b",
      "metadata": {
        "id": "89262615-6121-4317-ae78-f35a2c3d842b",
        "outputId": "c85d4bea-e1c4-4ba9-85d6-bcfc93a61a42"
      },
      "outputs": [
        {
          "data": {
            "text/plain": [
              "Getriebetyp       3\n",
              "Kraftstoffart     5\n",
              "Karosserieart    11\n",
              "Farbe            25\n",
              "Antrieb           5\n",
              "Marke            14\n",
              "dtype: int64"
            ]
          },
          "execution_count": 84,
          "metadata": {},
          "output_type": "execute_result"
        }
      ],
      "source": [
        "x_encoded.nunique()"
      ]
    },
    {
      "cell_type": "markdown",
      "source": [
        "Damit unsere Modellierung konsistenter auf numerischen Merkmalen funktioniert und da die Referenzbereiche von Spalte zu Spalte stark variieren, müssen wir diese numerischen Daten normalisieren, bevor wir mit der Modellierung beginnen. Mithilfe von minmaxscaler machen wir diese nicht codierten Spalten skalar."
      ],
      "metadata": {
        "id": "gcOQMU7Kmdl6"
      },
      "id": "gcOQMU7Kmdl6"
    },
    {
      "cell_type": "code",
      "execution_count": null,
      "id": "3e869386-db4d-43e6-b0f1-ed994954e9a1",
      "metadata": {
        "id": "3e869386-db4d-43e6-b0f1-ed994954e9a1"
      },
      "outputs": [],
      "source": [
        "x_not_encoded = df[['Alter', 'Kilometer', 'Durchschnittlicher Kraftstoffverbrauch', 'Motorleistung', \"Motorhubraum\", \"Preis\"]]"
      ]
    },
    {
      "cell_type": "code",
      "execution_count": null,
      "id": "5f033417-777f-4a8b-af3f-8b30aec73585",
      "metadata": {
        "id": "5f033417-777f-4a8b-af3f-8b30aec73585"
      },
      "outputs": [],
      "source": [
        "from sklearn.preprocessing import MinMaxScaler\n",
        "import pandas as pd\n",
        "scaler = MinMaxScaler()\n",
        "# Normalize the dataset\n",
        "normalized_data = scaler.fit_transform(x_not_encoded)\n",
        "x_not_encoded = pd.DataFrame(normalized_data, columns=['Alter', 'Kilometer','Durchschnittlicher Kraftstoffverbrauch', 'Motorleistung', \"Motorhubraum\", \"Preis\"])"
      ]
    },
    {
      "cell_type": "markdown",
      "source": [
        "Wir kodieren die Spalten, die kodiert werden müssen, mit OneHotEncoder und der Funktion get_dummies(), die für jede Spalte eine Spalte erstellt und diesen Datenrahmen mit Nullen und Einsen füllt, basierend auf dem unkodierten Datensatz in den resultierenden Datenrahmen."
      ],
      "metadata": {
        "id": "dXnxmy9wnDMm"
      },
      "id": "dXnxmy9wnDMm"
    },
    {
      "cell_type": "code",
      "execution_count": null,
      "id": "364197cf-7f1f-4c96-b43a-89dff2acd84e",
      "metadata": {
        "id": "364197cf-7f1f-4c96-b43a-89dff2acd84e"
      },
      "outputs": [],
      "source": [
        "from sklearn.preprocessing import OneHotEncoder\n",
        "\n",
        "# Initialize OneHotEncoder\n",
        "encoder = OneHotEncoder()\n",
        "\n",
        "# Fit and transform the selected columns#\n",
        "X_encoded = pd.get_dummies(x_encoded)\n",
        "\n",
        "#Datenverbessurung\n",
        "#X_encoded.drop([\"Serie_Avensis\"], axis=1, inplace=True)"
      ]
    },
    {
      "cell_type": "markdown",
      "source": [
        "Als Ergebnis dieser Operationen haben wir zwei separate Datenrahmen, die wir aus dem Hauptdatensatz erhalten haben.\n",
        "Einer enthält codierte kategoriale Daten, während der andere normalisierte numerische Daten enthält.\n",
        "Wir kombinieren diese beiden separaten Datenrahmen, um unsere Datenverarbeitung mit der Methode concat() fortzusetzen."
      ],
      "metadata": {
        "id": "6w54K_f2nkYP"
      },
      "id": "6w54K_f2nkYP"
    },
    {
      "cell_type": "code",
      "execution_count": null,
      "id": "c7b8bf1e-8b00-4bba-b4f2-cf8f379e13d2",
      "metadata": {
        "id": "c7b8bf1e-8b00-4bba-b4f2-cf8f379e13d2"
      },
      "outputs": [],
      "source": [
        "df = pd.concat([X_encoded, x_not_encoded, df[\"Marke\"]], axis=1)"
      ]
    },
    {
      "cell_type": "code",
      "execution_count": null,
      "id": "c5106417-9f89-447c-8bde-1fd384212142",
      "metadata": {
        "id": "c5106417-9f89-447c-8bde-1fd384212142"
      },
      "outputs": [],
      "source": [
        "df.to_csv(\"bereinigten_deutsch_daten.csv\", index=False)"
      ]
    }
  ],
  "metadata": {
    "kernelspec": {
      "display_name": "Python 3 (ipykernel)",
      "language": "python",
      "name": "python3"
    },
    "language_info": {
      "codemirror_mode": {
        "name": "ipython",
        "version": 3
      },
      "file_extension": ".py",
      "mimetype": "text/x-python",
      "name": "python",
      "nbconvert_exporter": "python",
      "pygments_lexer": "ipython3",
      "version": "3.11.3"
    },
    "colab": {
      "provenance": []
    }
  },
  "nbformat": 4,
  "nbformat_minor": 5
}