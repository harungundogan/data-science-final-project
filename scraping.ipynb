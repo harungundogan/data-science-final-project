{
  "cells": [
    {
      "cell_type": "code",
      "execution_count": null,
      "id": "a6b49c7e-1a75-4543-8f28-f9266d9634df",
      "metadata": {
        "id": "a6b49c7e-1a75-4543-8f28-f9266d9634df"
      },
      "outputs": [],
      "source": [
        "import requests\n",
        "import bs4\n",
        "import pandas as pd"
      ]
    },
    {
      "cell_type": "code",
      "execution_count": null,
      "id": "2d2d1589-4245-4ff6-a04c-26fd574d8a1f",
      "metadata": {
        "id": "2d2d1589-4245-4ff6-a04c-26fd574d8a1f"
      },
      "outputs": [],
      "source": [
        "def scrape_listings(url):\n",
        "    # Open the URL\n",
        "    r = requests.get(url)\n",
        "    # Parse the HTML\n",
        "    soup = bs4.BeautifulSoup(r.text, 'html.parser')\n",
        "\n",
        "    # Find all td-elements with class \"horizontal-half-padder-minus pr\"\n",
        "    listings = soup.find_all('td', {'horizontal-half-padder-minus pr'})\n",
        "    # Iterate over the listings\n",
        "    rows = []\n",
        "    for element in listings:\n",
        "        row = {}\n",
        "        # Find the a-element in element\n",
        "        row['url'] = \"https://www.arabam.com/\" + element.find('a').get('href')\n",
        "        rows.append(row)\n",
        "    return pd.DataFrame(rows)"
      ]
    },
    {
      "cell_type": "markdown",
      "id": "35fc5cc2",
      "metadata": {
        "id": "35fc5cc2"
      },
      "source": [
        "Dies kann verwendet werden, um Auflistungs-URLs von Autos auf der Webseite „www.arabam.com“ zu extrahieren. Es nutzt die Bibliotheken Pandas, Requests und BeautifulSoup aus bs4 (BeautifulSoup4). Die Funktion akzeptiert eine URL als Eingabe, lädt den Inhalt der Seite, analysiert das HTML, sucht nach bestimmten -Elementen mit einer spezifischen Klasse und wechselt dann die URLs von Listings aus den „a“ Elementen in einem Data Frame, bevor es diesen DataFrame zurückgibt ."
      ]
    },
    {
      "cell_type": "code",
      "execution_count": null,
      "id": "f5995de7-496b-4f9e-b8a4-399ebd21fa1b",
      "metadata": {
        "id": "f5995de7-496b-4f9e-b8a4-399ebd21fa1b",
        "outputId": "14137c17-4d61-487e-dee1-d8a97d44ddad"
      },
      "outputs": [
        {
          "data": {
            "text/html": [
              "<div>\n",
              "<style scoped>\n",
              "    .dataframe tbody tr th:only-of-type {\n",
              "        vertical-align: middle;\n",
              "    }\n",
              "\n",
              "    .dataframe tbody tr th {\n",
              "        vertical-align: top;\n",
              "    }\n",
              "\n",
              "    .dataframe thead th {\n",
              "        text-align: right;\n",
              "    }\n",
              "</style>\n",
              "<table border=\"1\" class=\"dataframe\">\n",
              "  <thead>\n",
              "    <tr style=\"text-align: right;\">\n",
              "      <th></th>\n",
              "      <th>url</th>\n",
              "    </tr>\n",
              "  </thead>\n",
              "  <tbody>\n",
              "    <tr>\n",
              "      <th>0</th>\n",
              "      <td>https://www.arabam.com//ilan/galeriden-satilik...</td>\n",
              "    </tr>\n",
              "    <tr>\n",
              "      <th>1</th>\n",
              "      <td>https://www.arabam.com//ilan/galeriden-satilik...</td>\n",
              "    </tr>\n",
              "    <tr>\n",
              "      <th>2</th>\n",
              "      <td>https://www.arabam.com//ilan/galeriden-satilik...</td>\n",
              "    </tr>\n",
              "    <tr>\n",
              "      <th>3</th>\n",
              "      <td>https://www.arabam.com//ilan/galeriden-satilik...</td>\n",
              "    </tr>\n",
              "    <tr>\n",
              "      <th>4</th>\n",
              "      <td>https://www.arabam.com//ilan/galeriden-satilik...</td>\n",
              "    </tr>\n",
              "    <tr>\n",
              "      <th>5</th>\n",
              "      <td>https://www.arabam.com//ilan/galeriden-satilik...</td>\n",
              "    </tr>\n",
              "    <tr>\n",
              "      <th>6</th>\n",
              "      <td>https://www.arabam.com//ilan/galeriden-satilik...</td>\n",
              "    </tr>\n",
              "    <tr>\n",
              "      <th>7</th>\n",
              "      <td>https://www.arabam.com//ilan/galeriden-satilik...</td>\n",
              "    </tr>\n",
              "    <tr>\n",
              "      <th>8</th>\n",
              "      <td>https://www.arabam.com//ilan/galeriden-satilik...</td>\n",
              "    </tr>\n",
              "    <tr>\n",
              "      <th>9</th>\n",
              "      <td>https://www.arabam.com//ilan/galeriden-satilik...</td>\n",
              "    </tr>\n",
              "    <tr>\n",
              "      <th>10</th>\n",
              "      <td>https://www.arabam.com//ilan/galeriden-satilik...</td>\n",
              "    </tr>\n",
              "    <tr>\n",
              "      <th>11</th>\n",
              "      <td>https://www.arabam.com//ilan/galeriden-satilik...</td>\n",
              "    </tr>\n",
              "    <tr>\n",
              "      <th>12</th>\n",
              "      <td>https://www.arabam.com//ilan/galeriden-satilik...</td>\n",
              "    </tr>\n",
              "    <tr>\n",
              "      <th>13</th>\n",
              "      <td>https://www.arabam.com//ilan/galeriden-satilik...</td>\n",
              "    </tr>\n",
              "    <tr>\n",
              "      <th>14</th>\n",
              "      <td>https://www.arabam.com//ilan/galeriden-satilik...</td>\n",
              "    </tr>\n",
              "    <tr>\n",
              "      <th>15</th>\n",
              "      <td>https://www.arabam.com//ilan/sahibinden-satili...</td>\n",
              "    </tr>\n",
              "    <tr>\n",
              "      <th>16</th>\n",
              "      <td>https://www.arabam.com//ilan/galeriden-satilik...</td>\n",
              "    </tr>\n",
              "    <tr>\n",
              "      <th>17</th>\n",
              "      <td>https://www.arabam.com//ilan/galeriden-satilik...</td>\n",
              "    </tr>\n",
              "    <tr>\n",
              "      <th>18</th>\n",
              "      <td>https://www.arabam.com//ilan/galeriden-satilik...</td>\n",
              "    </tr>\n",
              "    <tr>\n",
              "      <th>19</th>\n",
              "      <td>https://www.arabam.com//ilan/galeriden-satilik...</td>\n",
              "    </tr>\n",
              "    <tr>\n",
              "      <th>20</th>\n",
              "      <td>https://www.arabam.com//ilan/galeriden-satilik...</td>\n",
              "    </tr>\n",
              "    <tr>\n",
              "      <th>21</th>\n",
              "      <td>https://www.arabam.com//ilan/galeriden-satilik...</td>\n",
              "    </tr>\n",
              "    <tr>\n",
              "      <th>22</th>\n",
              "      <td>https://www.arabam.com//ilan/galeriden-satilik...</td>\n",
              "    </tr>\n",
              "    <tr>\n",
              "      <th>23</th>\n",
              "      <td>https://www.arabam.com//ilan/galeriden-satilik...</td>\n",
              "    </tr>\n",
              "    <tr>\n",
              "      <th>24</th>\n",
              "      <td>https://www.arabam.com//ilan/galeriden-satilik...</td>\n",
              "    </tr>\n",
              "    <tr>\n",
              "      <th>25</th>\n",
              "      <td>https://www.arabam.com//ilan/galeriden-satilik...</td>\n",
              "    </tr>\n",
              "    <tr>\n",
              "      <th>26</th>\n",
              "      <td>https://www.arabam.com//ilan/sahibinden-satili...</td>\n",
              "    </tr>\n",
              "    <tr>\n",
              "      <th>27</th>\n",
              "      <td>https://www.arabam.com//ilan/galeriden-satilik...</td>\n",
              "    </tr>\n",
              "    <tr>\n",
              "      <th>28</th>\n",
              "      <td>https://www.arabam.com//ilan/galeriden-satilik...</td>\n",
              "    </tr>\n",
              "    <tr>\n",
              "      <th>29</th>\n",
              "      <td>https://www.arabam.com//ilan/sahibinden-satili...</td>\n",
              "    </tr>\n",
              "    <tr>\n",
              "      <th>30</th>\n",
              "      <td>https://www.arabam.com//ilan/sahibinden-satili...</td>\n",
              "    </tr>\n",
              "    <tr>\n",
              "      <th>31</th>\n",
              "      <td>https://www.arabam.com//ilan/sahibinden-satili...</td>\n",
              "    </tr>\n",
              "    <tr>\n",
              "      <th>32</th>\n",
              "      <td>https://www.arabam.com//ilan/galeriden-satilik...</td>\n",
              "    </tr>\n",
              "    <tr>\n",
              "      <th>33</th>\n",
              "      <td>https://www.arabam.com//ilan/sahibinden-satili...</td>\n",
              "    </tr>\n",
              "    <tr>\n",
              "      <th>34</th>\n",
              "      <td>https://www.arabam.com//ilan/sahibinden-satili...</td>\n",
              "    </tr>\n",
              "    <tr>\n",
              "      <th>35</th>\n",
              "      <td>https://www.arabam.com//ilan/sahibinden-satili...</td>\n",
              "    </tr>\n",
              "    <tr>\n",
              "      <th>36</th>\n",
              "      <td>https://www.arabam.com//ilan/sahibinden-satili...</td>\n",
              "    </tr>\n",
              "    <tr>\n",
              "      <th>37</th>\n",
              "      <td>https://www.arabam.com//ilan/sahibinden-satili...</td>\n",
              "    </tr>\n",
              "    <tr>\n",
              "      <th>38</th>\n",
              "      <td>https://www.arabam.com//ilan/sahibinden-satili...</td>\n",
              "    </tr>\n",
              "    <tr>\n",
              "      <th>39</th>\n",
              "      <td>https://www.arabam.com//ilan/sahibinden-satili...</td>\n",
              "    </tr>\n",
              "    <tr>\n",
              "      <th>40</th>\n",
              "      <td>https://www.arabam.com//ilan/sahibinden-satili...</td>\n",
              "    </tr>\n",
              "    <tr>\n",
              "      <th>41</th>\n",
              "      <td>https://www.arabam.com//ilan/sahibinden-satili...</td>\n",
              "    </tr>\n",
              "    <tr>\n",
              "      <th>42</th>\n",
              "      <td>https://www.arabam.com//ilan/sahibinden-satili...</td>\n",
              "    </tr>\n",
              "    <tr>\n",
              "      <th>43</th>\n",
              "      <td>https://www.arabam.com//ilan/sahibinden-satili...</td>\n",
              "    </tr>\n",
              "    <tr>\n",
              "      <th>44</th>\n",
              "      <td>https://www.arabam.com//ilan/sahibinden-satili...</td>\n",
              "    </tr>\n",
              "    <tr>\n",
              "      <th>45</th>\n",
              "      <td>https://www.arabam.com//ilan/sahibinden-satili...</td>\n",
              "    </tr>\n",
              "    <tr>\n",
              "      <th>46</th>\n",
              "      <td>https://www.arabam.com//ilan/sahibinden-satili...</td>\n",
              "    </tr>\n",
              "    <tr>\n",
              "      <th>47</th>\n",
              "      <td>https://www.arabam.com//ilan/sahibinden-satili...</td>\n",
              "    </tr>\n",
              "    <tr>\n",
              "      <th>48</th>\n",
              "      <td>https://www.arabam.com//ilan/sahibinden-satili...</td>\n",
              "    </tr>\n",
              "    <tr>\n",
              "      <th>49</th>\n",
              "      <td>https://www.arabam.com//ilan/sahibinden-satili...</td>\n",
              "    </tr>\n",
              "  </tbody>\n",
              "</table>\n",
              "</div>"
            ],
            "text/plain": [
              "                                                  url\n",
              "0   https://www.arabam.com//ilan/galeriden-satilik...\n",
              "1   https://www.arabam.com//ilan/galeriden-satilik...\n",
              "2   https://www.arabam.com//ilan/galeriden-satilik...\n",
              "3   https://www.arabam.com//ilan/galeriden-satilik...\n",
              "4   https://www.arabam.com//ilan/galeriden-satilik...\n",
              "5   https://www.arabam.com//ilan/galeriden-satilik...\n",
              "6   https://www.arabam.com//ilan/galeriden-satilik...\n",
              "7   https://www.arabam.com//ilan/galeriden-satilik...\n",
              "8   https://www.arabam.com//ilan/galeriden-satilik...\n",
              "9   https://www.arabam.com//ilan/galeriden-satilik...\n",
              "10  https://www.arabam.com//ilan/galeriden-satilik...\n",
              "11  https://www.arabam.com//ilan/galeriden-satilik...\n",
              "12  https://www.arabam.com//ilan/galeriden-satilik...\n",
              "13  https://www.arabam.com//ilan/galeriden-satilik...\n",
              "14  https://www.arabam.com//ilan/galeriden-satilik...\n",
              "15  https://www.arabam.com//ilan/sahibinden-satili...\n",
              "16  https://www.arabam.com//ilan/galeriden-satilik...\n",
              "17  https://www.arabam.com//ilan/galeriden-satilik...\n",
              "18  https://www.arabam.com//ilan/galeriden-satilik...\n",
              "19  https://www.arabam.com//ilan/galeriden-satilik...\n",
              "20  https://www.arabam.com//ilan/galeriden-satilik...\n",
              "21  https://www.arabam.com//ilan/galeriden-satilik...\n",
              "22  https://www.arabam.com//ilan/galeriden-satilik...\n",
              "23  https://www.arabam.com//ilan/galeriden-satilik...\n",
              "24  https://www.arabam.com//ilan/galeriden-satilik...\n",
              "25  https://www.arabam.com//ilan/galeriden-satilik...\n",
              "26  https://www.arabam.com//ilan/sahibinden-satili...\n",
              "27  https://www.arabam.com//ilan/galeriden-satilik...\n",
              "28  https://www.arabam.com//ilan/galeriden-satilik...\n",
              "29  https://www.arabam.com//ilan/sahibinden-satili...\n",
              "30  https://www.arabam.com//ilan/sahibinden-satili...\n",
              "31  https://www.arabam.com//ilan/sahibinden-satili...\n",
              "32  https://www.arabam.com//ilan/galeriden-satilik...\n",
              "33  https://www.arabam.com//ilan/sahibinden-satili...\n",
              "34  https://www.arabam.com//ilan/sahibinden-satili...\n",
              "35  https://www.arabam.com//ilan/sahibinden-satili...\n",
              "36  https://www.arabam.com//ilan/sahibinden-satili...\n",
              "37  https://www.arabam.com//ilan/sahibinden-satili...\n",
              "38  https://www.arabam.com//ilan/sahibinden-satili...\n",
              "39  https://www.arabam.com//ilan/sahibinden-satili...\n",
              "40  https://www.arabam.com//ilan/sahibinden-satili...\n",
              "41  https://www.arabam.com//ilan/sahibinden-satili...\n",
              "42  https://www.arabam.com//ilan/sahibinden-satili...\n",
              "43  https://www.arabam.com//ilan/sahibinden-satili...\n",
              "44  https://www.arabam.com//ilan/sahibinden-satili...\n",
              "45  https://www.arabam.com//ilan/sahibinden-satili...\n",
              "46  https://www.arabam.com//ilan/sahibinden-satili...\n",
              "47  https://www.arabam.com//ilan/sahibinden-satili...\n",
              "48  https://www.arabam.com//ilan/sahibinden-satili...\n",
              "49  https://www.arabam.com//ilan/sahibinden-satili..."
            ]
          },
          "execution_count": 11,
          "metadata": {},
          "output_type": "execute_result"
        }
      ],
      "source": [
        "df = scrape_listings(\"https://www.arabam.com/ikinci-el/otomobil/skoda?take=50\")\n",
        "df"
      ]
    },
    {
      "cell_type": "markdown",
      "id": "865500d8",
      "metadata": {
        "id": "865500d8"
      },
      "source": [
        "Das der Variablen df zugewiesene Ergebnis stellt einen Pandas DataFrame dar, der die URLs dieser Autoanzeigen enthält. Wenn wir hier die df-Variable drucken, sehen wir eine Tabelle mit den URLs der relevanten Anzeigen."
      ]
    },
    {
      "cell_type": "code",
      "execution_count": null,
      "id": "ec4db2de-a2c6-46e4-96c5-004b93efc784",
      "metadata": {
        "id": "ec4db2de-a2c6-46e4-96c5-004b93efc784"
      },
      "outputs": [],
      "source": [
        "def scrape_details(df):\n",
        "    # Iterate over the rows of df\n",
        "    for i in range(len(df)):\n",
        "        # Open the URL\n",
        "        r = requests.get(df['url'].iloc[i])\n",
        "        # Parse the HTML\n",
        "        soup = bs4.BeautifulSoup(r.text, 'html.parser')\n",
        "        # Find the div-element with class 'product-properties' in soup\n",
        "        pricing = soup.find('div', {'class': 'product-properties'})\n",
        "        # Find all sd-cell-row-elements in pricing\n",
        "        for cell in pricing.find_all('div', {'class': 'property-item'}):\n",
        "            # Find all sd-cell-col-elements in cell\n",
        "            cols = cell.find('div', {'class': 'property-key'})\n",
        "            rows = cell.find_all('div', {'class': 'property-value'})\n",
        "            # Add a new column to the df if not existing and set the i-th value for the column\n",
        "            if cols and cols.text.strip() not in df.columns:\n",
        "                df[cols.text.strip()] = None\n",
        "\n",
        "\n",
        "            if rows and cols:\n",
        "                    df.loc[i, cols.text.strip()] = rows[0].text.strip() if rows else None\n",
        "        for cell in pricing.find_all('div', {'class': 'product-properties--sticky'}):\n",
        "            for cell2 in cell.find_all('div', {'class': 'product-price-container'}):\n",
        "\n",
        "                cols = cell2.find('div', {'class': 'property-key'})\n",
        "                rows = cell2.find_all('div', {'class': 'product-price'})\n",
        "                # Add a new column to the df if not existing and set the i-th value for the column\n",
        "                if cols and cols.text.strip() not in df.columns:\n",
        "                    df[cols.text.strip()] = None\n",
        "\n",
        "\n",
        "                if rows and cols:\n",
        "                        df.loc[i, cols.text.strip()] = rows[0].text.strip() if rows else None\n",
        "\n",
        "    return df.drop([\"İlan No\", \"Kimden\", \"url\", \"İlan Tarihi\", \"Takasa Uygun\"], axis=1)\n",
        "\n",
        "#\"İlan No\" : „Anzeigennummer“\n",
        "#\"Kimden\" : „Zu verkaufen von“\n",
        "#\"url\" : „URL“\n",
        "#\"İlan Tarihi\" : „Anzeigendatum“\n",
        "#\"Takasa Uygun\" : „Für den Handel verfügbar“"
      ]
    },
    {
      "cell_type": "markdown",
      "id": "25ayi5hK5FQd",
      "metadata": {
        "id": "25ayi5hK5FQd"
      },
      "source": [
        "Diese Funktion macht folgendes:\n",
        "Öffnet die URL in der Spalte „URL“ des Datenrahmens für jede Zeile und verwendet den von der Funktion „scrape_listings“ erstellten Datenrahmen, um die Auflistungsdetails abzurufen.\n",
        "Analysiert das HTML der Website mit BeautifulSoup, um bestimmte Elemente zu finden.\n",
        "Extrahiert Informationen aus diesen Elementen, insbesondere aus div-Tags mit verschiedenen Klassen wie 'product-properties', 'property-item', 'product-properties--sticky' usw.\n",
        "Fügt die extrahierten Informationen als neue Spalten dem Data Frame hinzu.\n",
        "Entfernt bestimmte Spalten wie \"İlan No\": „Anzeigennummer“ , \"Kimden\": „Zu verkaufen von“, \"url\", \"İlan Tarihi\": „Anzeigendatum“ und \"Takasa Uygun\": „Für den Handel verfügbar“ aus dem DataFrame.\n",
        "Gibt den bearbeiteten DataFrame zurück, der nun die erfassten Informationen der Webseite in strukturierter Form enthält.\n"
      ]
    },
    {
      "cell_type": "markdown",
      "id": "56183b64",
      "metadata": {
        "id": "56183b64"
      },
      "source": [
        "<img src=\"product-properties.png\" />\n",
        "\n",
        "Zunächst sehen wir im Allgemeinen den Teil „product-properties“ eines solchen Autos\n"
      ]
    },
    {
      "cell_type": "markdown",
      "id": "08d9942d",
      "metadata": {
        "id": "08d9942d"
      },
      "source": [
        "<img src=\"property-item.png\" />\n",
        "\n",
        "So behandeln wir eine einzelne Eigenschaft des Autos mit der div „property-item“."
      ]
    },
    {
      "cell_type": "markdown",
      "id": "994f388a",
      "metadata": {
        "id": "994f388a"
      },
      "source": [
        "<img src=\"property-key-value.png\" />\n",
        "\n",
        "Wenn wir diesen Abschnitt öffnen, sehen wir das Div, in dem ein „property-Item“, also eine Eigenschaft des Fahrzeugs, ein „key“ ist und diese keys „value“ sind."
      ]
    },
    {
      "cell_type": "markdown",
      "id": "7c96e6b6",
      "metadata": {
        "id": "7c96e6b6"
      },
      "source": [
        "<img src=\"product-price-container.png\" />\n",
        "\n",
        "Da die Preise des Fahrzeugs nicht in „property-item“, sondern in einem anderen div angegeben sind, ziehen wir die Preise des Fahrzeugs aus diesem im Bild gezeigten Pfad."
      ]
    },
    {
      "cell_type": "markdown",
      "id": "0be2a5cd",
      "metadata": {
        "id": "0be2a5cd"
      },
      "source": [
        "<img src=\"drop.png\" />\n",
        "\n",
        "Wir finden die „key“ aus dem „property-item“ der unnötigen Merkmale, die wir nicht verwenden und aus dem DataFrame entfernen. Anschließend entfernen wir diese unnötigen Daten in der von uns vorbereiteten Funktion scrape_details.\n",
        "Diese Merkmale sind(mit ihren deutschen Entsprechungen):\n",
        "\"İlan No\" : „Anzeigennummer“\n",
        "\"Kimden\" : „Zu verkaufen von“\n",
        "\"url\" : „URL“\n",
        "\"İlan Tarihi\" : „Anzeigendatum“\n",
        "\"Takasa Uygun\" : „Für den Handel verfügbar“"
      ]
    },
    {
      "cell_type": "code",
      "execution_count": null,
      "id": "079d6d04-1dd1-4100-a700-d29a7ed16312",
      "metadata": {
        "id": "079d6d04-1dd1-4100-a700-d29a7ed16312"
      },
      "outputs": [],
      "source": [
        "df = scrape_details(df)\n",
        "df"
      ]
    },
    {
      "cell_type": "code",
      "execution_count": null,
      "id": "5035910f-f40f-4e83-959b-a95c1f63ff4a",
      "metadata": {
        "id": "5035910f-f40f-4e83-959b-a95c1f63ff4a"
      },
      "outputs": [],
      "source": [
        "def scrape_all(pages):\n",
        "    url = 'https://www.arabam.com/ikinci-el/otomobil/skoda?take=50&page='\n",
        "    df = pd.DataFrame()\n",
        "    for page in pages:\n",
        "        df = pd.concat([df, scrape_listings(url + str(page))], ignore_index=True)\n",
        "    df = scrape_details(df)\n",
        "    return df"
      ]
    },
    {
      "cell_type": "markdown",
      "id": "cwKk4EaW5Roa",
      "metadata": {
        "id": "cwKk4EaW5Roa"
      },
      "source": [
        "Die Funktion macht folgendes:\n",
        "Die Funktion erstellt eine Basis-URL für die Autoverkaufsseite ('https://www.arabam.com/ikinci-el/otomobil/skoda?take=50&page=') mit einem Platzhalter für die Seitenzahl.\n",
        "Es initialisiert ein leeres Pandas DataFrame (df), um die gesammelten Daten zu speichern.\n",
        "Für jede Seitenzahl in der übergebenen Liste pages wird scrape_listings aufgerufen, um Listings von der entsprechenden Seite zu extrahieren.\n",
        "Die gesammelten Listings werden dem DataFrame df hinzugefügt.\n",
        "Anschließend wird die Funktion scrape_details aufgerufen, um detailliertere Informationen zu den Listings zu sammeln und dem DataFrame hinzuzufügen.\n",
        "Schließlich gibt die Funktion den bearbeiteten DataFrame zurück, der alle gesammelten und strukturierten Informationen von den angegebenen Seiten enthält.\n",
        "In diesem Fall  wurde die Marke “Skoda” extrahiert aber die Marken Audi, BMW,  Citroen, Fiat, Ford, Honda, Hyundai,  Mercedes - Benz, Opel,  Peugeot,  Seat, Skoda, Toyota, Volkswagen für das Modell benutzt.\n"
      ]
    },
    {
      "cell_type": "code",
      "execution_count": null,
      "id": "6a2c3c90-3c35-46b7-81c2-455f98a01013",
      "metadata": {
        "id": "6a2c3c90-3c35-46b7-81c2-455f98a01013"
      },
      "outputs": [],
      "source": [
        "df_large = scrape_all(range(1, 50))\n",
        "df_large"
      ]
    }
  ],
  "metadata": {
    "colab": {
      "provenance": []
    },
    "kernelspec": {
      "display_name": "Python 3 (ipykernel)",
      "language": "python",
      "name": "python3"
    },
    "language_info": {
      "codemirror_mode": {
        "name": "ipython",
        "version": 3
      },
      "file_extension": ".py",
      "mimetype": "text/x-python",
      "name": "python",
      "nbconvert_exporter": "python",
      "pygments_lexer": "ipython3",
      "version": "3.11.5"
    }
  },
  "nbformat": 4,
  "nbformat_minor": 5
}