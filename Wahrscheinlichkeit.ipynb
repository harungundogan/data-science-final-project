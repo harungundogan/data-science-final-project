{
  "cells": [
    {
      "cell_type": "markdown",
      "source": [
        "[link text](https://)<style>\n",
        "    .gradient-background {\n",
        "        background: linear-gradient(to right, #b3ffb3, #006600);\n",
        "        padding: 10px;\n",
        "        border-radius: 5px;\n",
        "    }\n",
        "</style>\n",
        "\n",
        "<div class=\"gradient-background\">\n",
        "    <h1>Wahrscheinlichkeit, Hypothesen, Schlussfolgerung</h1>\n",
        "</div>\n",
        "</div>"
      ],
      "metadata": {
        "id": "tF0U9DQXEbmd"
      },
      "id": "tF0U9DQXEbmd"
    },
    {
      "cell_type": "markdown",
      "source": [
        "<style>\n",
        "    .gradient-background {\n",
        "        background: linear-gradient(to right, #b3ffb3, #006600);  /* Light green to dark green gradient, adjust colors as needed */\n",
        "        padding: 10px;\n",
        "        border-radius: 5px;\n",
        "    }\n",
        "</style>\n",
        "\n",
        "<div class=\"gradient-background\">\n",
        "    <h2 style=\"font-size: 15px;\"><b>Wahrscheinlichkeitsrechnung</b></h2>\n",
        "</div>\n",
        "</div>"
      ],
      "metadata": {
        "id": "NI4zwRf0Ekb-"
      },
      "id": "NI4zwRf0Ekb-"
    },
    {
      "cell_type": "code",
      "execution_count": null,
      "id": "73be0fd2",
      "metadata": {
        "id": "73be0fd2"
      },
      "outputs": [],
      "source": [
        "import pandas as pd\n",
        "import numpy as np\n",
        "import matplotlib.pyplot as plt\n",
        "import seaborn as sns\n",
        "from scipy.stats import gaussian_kde\n",
        "import seaborn as sns"
      ]
    },
    {
      "cell_type": "code",
      "execution_count": null,
      "id": "3d80a4c4",
      "metadata": {
        "id": "3d80a4c4"
      },
      "outputs": [],
      "source": [
        "df = pd.read_csv(\"cleaned_all_data.csv\")\n",
        "df.rename(columns = {'Marka':'Marke', 'Seri':'Serie',\n",
        "                              'Model':'Modell', 'Yıl':'Jahr','Kilometre':'Kilometer','Vites Tipi':'Getriebetyp','Yakıt Tipi':'Kraftstoffart','Kasa Tipi':'Karosserieart','Renk':'Farbe','Motor Hacmi':'Motorhubraum','Motor Gücü':'Motorleistung','Çekiş':'Antrieb','Ort. Yakıt Tüketimi':'Durchschnittlicher Kraftstoffverbrauch','Yakıt Deposu':'Kraftstofftank','Boya-değişen':'Lackwechsel','Fiyat':'Preis','Yaş':'Alter'}, inplace = True)"
      ]
    },
    {
      "cell_type": "code",
      "execution_count": null,
      "id": "a1b3ebf8",
      "metadata": {
        "scrolled": true,
        "id": "a1b3ebf8",
        "outputId": "74163345-89f2-4d01-c5d4-49def711271c",
        "colab": {
          "base_uri": "https://localhost:8080/"
        }
      },
      "outputs": [
        {
          "output_type": "stream",
          "name": "stdout",
          "text": [
            "<class 'pandas.core.frame.DataFrame'>\n",
            "RangeIndex: 24580 entries, 0 to 24579\n",
            "Data columns (total 16 columns):\n",
            " #   Column                                  Non-Null Count  Dtype  \n",
            "---  ------                                  --------------  -----  \n",
            " 0   Marke                                   24580 non-null  object \n",
            " 1   Serie                                   24580 non-null  object \n",
            " 2   Modell                                  24580 non-null  object \n",
            " 3   Kilometer                               24580 non-null  float64\n",
            " 4   Getriebetyp                             24580 non-null  object \n",
            " 5   Kraftstoffart                           24580 non-null  object \n",
            " 6   Karosserieart                           24579 non-null  object \n",
            " 7   Farbe                                   24579 non-null  object \n",
            " 8   Motorhubraum                            24579 non-null  float64\n",
            " 9   Motorleistung                           24579 non-null  float64\n",
            " 10  Antrieb                                 24579 non-null  object \n",
            " 11  Durchschnittlicher Kraftstoffverbrauch  24579 non-null  float64\n",
            " 12  Kraftstofftank                          24579 non-null  float64\n",
            " 13  Lackwechsel                             24579 non-null  object \n",
            " 14  Preis                                   24579 non-null  float64\n",
            " 15  Alter                                   24579 non-null  float64\n",
            "dtypes: float64(7), object(9)\n",
            "memory usage: 3.0+ MB\n"
          ]
        }
      ],
      "source": [
        "df.head()\n",
        "df.info()"
      ]
    },
    {
      "cell_type": "markdown",
      "source": [
        "In der Visualisierungsphase können wir uns ein paar vorläufige Vorstellungen über die Wahrscheinlichkeit machen, indem wir uns die Korrelation, die Beziehung zwischen Merkmalen, das Verhalten und die Tendenz der Daten ansehen. Und wir können sie mit verschiedenen Methoden testen. Für unsere Daten und Beispiele können wir jedoch fanden Satz von Bayes passend und führten unsere Wahrscheinlichkeitsberechnungen anhand von zwei Beispielen durch."
      ],
      "metadata": {
        "id": "q-So_oFPy3Z1"
      },
      "id": "q-So_oFPy3Z1"
    },
    {
      "cell_type": "code",
      "execution_count": null,
      "id": "f6895179",
      "metadata": {
        "scrolled": true,
        "id": "f6895179",
        "outputId": "8e088d19-1a05-4f9f-84a8-08066faea9c0",
        "colab": {
          "base_uri": "https://localhost:8080/"
        }
      },
      "outputs": [
        {
          "output_type": "execute_result",
          "data": {
            "text/plain": [
              "Marke                                      object\n",
              "Serie                                      object\n",
              "Modell                                     object\n",
              "Kilometer                                 float64\n",
              "Getriebetyp                                object\n",
              "Kraftstoffart                              object\n",
              "Karosserieart                              object\n",
              "Farbe                                      object\n",
              "Motorhubraum                              float64\n",
              "Motorleistung                             float64\n",
              "Antrieb                                    object\n",
              "Durchschnittlicher Kraftstoffverbrauch    float64\n",
              "Kraftstofftank                            float64\n",
              "Lackwechsel                                object\n",
              "Preis                                     float64\n",
              "Alter                                     float64\n",
              "dtype: object"
            ]
          },
          "metadata": {},
          "execution_count": 4
        }
      ],
      "source": [
        "df.dtypes"
      ]
    },
    {
      "cell_type": "markdown",
      "source": [
        " Wir können es als 'Wahrscheinlichkeit von Fahrzeugen mit einer Motorleistung von **mehr als 110**' **P(A)** bezeichnen. Dies wird das zweite Ergebniss in diesem Szenario sein. Die Wahrscheinlichkeit, dass die Spalte „Motorleistung“ einen Wert größer als 110 hat, beträgt für diesen Datensatz **0,47**."
      ],
      "metadata": {
        "id": "89qtsa-YFm2G"
      },
      "id": "89qtsa-YFm2G"
    },
    {
      "cell_type": "code",
      "execution_count": null,
      "id": "80fb8131",
      "metadata": {
        "id": "80fb8131",
        "outputId": "3b8c8ddc-17da-44c0-b642-04d54c1f2b2c",
        "colab": {
          "base_uri": "https://localhost:8080/"
        }
      },
      "outputs": [
        {
          "output_type": "stream",
          "name": "stdout",
          "text": [
            "Probability:  0.4806753458096013\n"
          ]
        }
      ],
      "source": [
        "#Ermittlung der Wahrscheinlichkeit von Fahrzeugen mit einer Motorleistung von mehr als 110\n",
        "motorleistung_probability = len(df[df['Motorleistung']>=110]) / len(df['Motorleistung'])\n",
        "print('Probability: ', motorleistung_probability)"
      ]
    },
    {
      "cell_type": "markdown",
      "source": [
        "<style>\n",
        "    .gradient-background {\n",
        "        background: linear-gradient(to right, #b3ffb3, #006600);  /* Light green to dark green gradient, adjust colors as needed */\n",
        "        padding: 10px;\n",
        "        border-radius: 5px;\n",
        "    }\n",
        "</style>\n",
        "\n",
        "<div class=\"gradient-background\">\n",
        "    <h2 style=\"font-size: 15px;\">Was ist die Wahrscheinlichkeit für das Auftreten der Ereignisse?</h2>\n",
        "</div>\n",
        "</div>"
      ],
      "metadata": {
        "id": "R7mw10YFEnve"
      },
      "id": "R7mw10YFEnve"
    },
    {
      "cell_type": "markdown",
      "source": [
        "Wir können das 800.000-TL-Ereignis als P(B) bezeichnen. In diesem Szenario handelt es sich um die ersten Ergebnisse. In diesem Datensatz beträgt die Wahrscheinlichkeit, dass die Daten in der gesamten Preisspalte mehr als 800.000 sind, 0,26.\n",
        "\n",
        "\n"
      ],
      "metadata": {
        "id": "d8g3yvfTGXmK"
      },
      "id": "d8g3yvfTGXmK"
    },
    {
      "cell_type": "code",
      "execution_count": null,
      "id": "9a9cf15d",
      "metadata": {
        "id": "9a9cf15d",
        "outputId": "5225c27b-705f-4ac8-a794-4f829f5e861d",
        "colab": {
          "base_uri": "https://localhost:8080/"
        }
      },
      "outputs": [
        {
          "output_type": "stream",
          "name": "stdout",
          "text": [
            "Probability:  0.27176566314076483\n"
          ]
        }
      ],
      "source": [
        "#Wahrscheinlichkeit eines Fahrzeugs mit einem Preis von mehr als 800.000 TL\n",
        "price_probability = len(df[df['Preis']>=800000]) / len(df['Preis'])\n",
        "print('Probability: ', price_probability)"
      ]
    },
    {
      "cell_type": "code",
      "execution_count": null,
      "id": "c8eda2b6",
      "metadata": {
        "id": "c8eda2b6"
      },
      "outputs": [],
      "source": [
        "#Wir haben eine Kopie des DataFrame genommen und diejenigen\n",
        "#mit „Motorleistung“ größer als 110 in df_motorleistung eingefügt\n",
        "df_motorleistung = df.copy()\n",
        "df_motorleistung = df[df[\"Motorleistung\"]>=110]"
      ]
    },
    {
      "cell_type": "code",
      "execution_count": null,
      "id": "4542365d",
      "metadata": {
        "id": "4542365d",
        "outputId": "7ded079b-c49c-4a19-8596-00fa7f61e5e3",
        "colab": {
          "base_uri": "https://localhost:8080/",
          "height": 721
        }
      },
      "outputs": [
        {
          "output_type": "execute_result",
          "data": {
            "text/plain": [
              "            Marke   Serie                          Modell  Kilometer  \\\n",
              "0            Audi      A6                A6 Sedan 2.0 TDI      3.370   \n",
              "1            Audi      A3   A3 Sportback 1.0 TFSI Dynamic      0.760   \n",
              "2            Audi      A3        A3 Sedan 1.6 TDI Dynamic      1.390   \n",
              "3            Audi      A3        A3 Sedan 30 TFSI Dynamic      0.834   \n",
              "4            Audi      A6                A6 Sedan 2.0 TDI      3.800   \n",
              "...           ...     ...                             ...        ...   \n",
              "24561  Volkswagen  Passat               1.8 T Comfortline      2.580   \n",
              "24564  Volkswagen  Passat  1.6 TDi BlueMotion Comfortline      2.756   \n",
              "24570  Volkswagen    Polo                     1.4 TSi GTi      1.920   \n",
              "24573  Volkswagen    Golf             1.0 TSi Comfortline      1.290   \n",
              "24575  Volkswagen  Passat             1.4 TSi Comfortline      2.160   \n",
              "\n",
              "         Getriebetyp Kraftstoffart Karosserieart           Farbe  \\\n",
              "0           Otomatik         Dizel         Sedan     Gri (Gümüş)   \n",
              "1      Yarı Otomatik        Benzin   Hatchback/5           Beyaz   \n",
              "2      Yarı Otomatik         Dizel         Sedan           Siyah   \n",
              "3      Yarı Otomatik        Benzin         Sedan  Mavi (metalik)   \n",
              "4           Otomatik         Dizel         Sedan           Siyah   \n",
              "...              ...           ...           ...             ...   \n",
              "24561            Düz  LPG & Benzin         Sedan     Gri (Gümüş)   \n",
              "24564  Yarı Otomatik         Dizel         Sedan           Beyaz   \n",
              "24570  Yarı Otomatik        Benzin   Hatchback/3         Kırmızı   \n",
              "24573  Yarı Otomatik        Benzin   Hatchback/5           Beyaz   \n",
              "24575       Otomatik        Benzin         Sedan             Gri   \n",
              "\n",
              "       Motorhubraum  Motorleistung      Antrieb  \\\n",
              "0            1968.0          136.0  Önden Çekiş   \n",
              "1             999.0          116.0  Önden Çekiş   \n",
              "2            1598.0          110.0  Önden Çekiş   \n",
              "3             999.0          116.0  Önden Çekiş   \n",
              "4            1968.0          140.0  Önden Çekiş   \n",
              "...             ...            ...          ...   \n",
              "24561        1781.0          150.0  Önden Çekiş   \n",
              "24564        1598.0          120.0  Önden Çekiş   \n",
              "24570        1390.0          180.0  Önden Çekiş   \n",
              "24573         999.0          115.0  Önden Çekiş   \n",
              "24575        1390.0          122.0  Önden Çekiş   \n",
              "\n",
              "       Durchschnittlicher Kraftstoffverbrauch  Kraftstofftank  \\\n",
              "0                                         5.8            70.0   \n",
              "1                                         4.5            50.0   \n",
              "2                                         3.7            50.0   \n",
              "3                                         4.4            50.0   \n",
              "4                                         6.2            70.0   \n",
              "...                                       ...             ...   \n",
              "24561                                     7.9            62.0   \n",
              "24564                                     4.0            66.0   \n",
              "24570                                     5.8            45.0   \n",
              "24573                                     4.8            50.0   \n",
              "24575                                     6.6            70.0   \n",
              "\n",
              "               Lackwechsel      Preis  Alter  \n",
              "0                 3 boyalı   749000.0   14.0  \n",
              "1           Tamamı orjinal  1145000.0    6.0  \n",
              "2            Belirtilmemiş   995000.0    7.0  \n",
              "3           Tamamı orjinal  1250000.0    4.0  \n",
              "4      2 değişen, 2 boyalı   650000.0   16.0  \n",
              "...                    ...        ...    ...  \n",
              "24561  1 değişen, 4 boyalı   415000.0   25.0  \n",
              "24564             2 boyalı   930000.0    8.0  \n",
              "24570       Tamamı orjinal   760000.0   12.0  \n",
              "24573       Tamamı orjinal   896000.0    4.0  \n",
              "24575  1 değişen, 2 boyalı   715000.0   14.0  \n",
              "\n",
              "[11815 rows x 16 columns]"
            ],
            "text/html": [
              "\n",
              "  <div id=\"df-dc9ce65a-9627-426e-bdb9-2378118323f1\" class=\"colab-df-container\">\n",
              "    <div>\n",
              "<style scoped>\n",
              "    .dataframe tbody tr th:only-of-type {\n",
              "        vertical-align: middle;\n",
              "    }\n",
              "\n",
              "    .dataframe tbody tr th {\n",
              "        vertical-align: top;\n",
              "    }\n",
              "\n",
              "    .dataframe thead th {\n",
              "        text-align: right;\n",
              "    }\n",
              "</style>\n",
              "<table border=\"1\" class=\"dataframe\">\n",
              "  <thead>\n",
              "    <tr style=\"text-align: right;\">\n",
              "      <th></th>\n",
              "      <th>Marke</th>\n",
              "      <th>Serie</th>\n",
              "      <th>Modell</th>\n",
              "      <th>Kilometer</th>\n",
              "      <th>Getriebetyp</th>\n",
              "      <th>Kraftstoffart</th>\n",
              "      <th>Karosserieart</th>\n",
              "      <th>Farbe</th>\n",
              "      <th>Motorhubraum</th>\n",
              "      <th>Motorleistung</th>\n",
              "      <th>Antrieb</th>\n",
              "      <th>Durchschnittlicher Kraftstoffverbrauch</th>\n",
              "      <th>Kraftstofftank</th>\n",
              "      <th>Lackwechsel</th>\n",
              "      <th>Preis</th>\n",
              "      <th>Alter</th>\n",
              "    </tr>\n",
              "  </thead>\n",
              "  <tbody>\n",
              "    <tr>\n",
              "      <th>0</th>\n",
              "      <td>Audi</td>\n",
              "      <td>A6</td>\n",
              "      <td>A6 Sedan 2.0 TDI</td>\n",
              "      <td>3.370</td>\n",
              "      <td>Otomatik</td>\n",
              "      <td>Dizel</td>\n",
              "      <td>Sedan</td>\n",
              "      <td>Gri (Gümüş)</td>\n",
              "      <td>1968.0</td>\n",
              "      <td>136.0</td>\n",
              "      <td>Önden Çekiş</td>\n",
              "      <td>5.8</td>\n",
              "      <td>70.0</td>\n",
              "      <td>3 boyalı</td>\n",
              "      <td>749000.0</td>\n",
              "      <td>14.0</td>\n",
              "    </tr>\n",
              "    <tr>\n",
              "      <th>1</th>\n",
              "      <td>Audi</td>\n",
              "      <td>A3</td>\n",
              "      <td>A3 Sportback 1.0 TFSI Dynamic</td>\n",
              "      <td>0.760</td>\n",
              "      <td>Yarı Otomatik</td>\n",
              "      <td>Benzin</td>\n",
              "      <td>Hatchback/5</td>\n",
              "      <td>Beyaz</td>\n",
              "      <td>999.0</td>\n",
              "      <td>116.0</td>\n",
              "      <td>Önden Çekiş</td>\n",
              "      <td>4.5</td>\n",
              "      <td>50.0</td>\n",
              "      <td>Tamamı orjinal</td>\n",
              "      <td>1145000.0</td>\n",
              "      <td>6.0</td>\n",
              "    </tr>\n",
              "    <tr>\n",
              "      <th>2</th>\n",
              "      <td>Audi</td>\n",
              "      <td>A3</td>\n",
              "      <td>A3 Sedan 1.6 TDI Dynamic</td>\n",
              "      <td>1.390</td>\n",
              "      <td>Yarı Otomatik</td>\n",
              "      <td>Dizel</td>\n",
              "      <td>Sedan</td>\n",
              "      <td>Siyah</td>\n",
              "      <td>1598.0</td>\n",
              "      <td>110.0</td>\n",
              "      <td>Önden Çekiş</td>\n",
              "      <td>3.7</td>\n",
              "      <td>50.0</td>\n",
              "      <td>Belirtilmemiş</td>\n",
              "      <td>995000.0</td>\n",
              "      <td>7.0</td>\n",
              "    </tr>\n",
              "    <tr>\n",
              "      <th>3</th>\n",
              "      <td>Audi</td>\n",
              "      <td>A3</td>\n",
              "      <td>A3 Sedan 30 TFSI Dynamic</td>\n",
              "      <td>0.834</td>\n",
              "      <td>Yarı Otomatik</td>\n",
              "      <td>Benzin</td>\n",
              "      <td>Sedan</td>\n",
              "      <td>Mavi (metalik)</td>\n",
              "      <td>999.0</td>\n",
              "      <td>116.0</td>\n",
              "      <td>Önden Çekiş</td>\n",
              "      <td>4.4</td>\n",
              "      <td>50.0</td>\n",
              "      <td>Tamamı orjinal</td>\n",
              "      <td>1250000.0</td>\n",
              "      <td>4.0</td>\n",
              "    </tr>\n",
              "    <tr>\n",
              "      <th>4</th>\n",
              "      <td>Audi</td>\n",
              "      <td>A6</td>\n",
              "      <td>A6 Sedan 2.0 TDI</td>\n",
              "      <td>3.800</td>\n",
              "      <td>Otomatik</td>\n",
              "      <td>Dizel</td>\n",
              "      <td>Sedan</td>\n",
              "      <td>Siyah</td>\n",
              "      <td>1968.0</td>\n",
              "      <td>140.0</td>\n",
              "      <td>Önden Çekiş</td>\n",
              "      <td>6.2</td>\n",
              "      <td>70.0</td>\n",
              "      <td>2 değişen, 2 boyalı</td>\n",
              "      <td>650000.0</td>\n",
              "      <td>16.0</td>\n",
              "    </tr>\n",
              "    <tr>\n",
              "      <th>...</th>\n",
              "      <td>...</td>\n",
              "      <td>...</td>\n",
              "      <td>...</td>\n",
              "      <td>...</td>\n",
              "      <td>...</td>\n",
              "      <td>...</td>\n",
              "      <td>...</td>\n",
              "      <td>...</td>\n",
              "      <td>...</td>\n",
              "      <td>...</td>\n",
              "      <td>...</td>\n",
              "      <td>...</td>\n",
              "      <td>...</td>\n",
              "      <td>...</td>\n",
              "      <td>...</td>\n",
              "      <td>...</td>\n",
              "    </tr>\n",
              "    <tr>\n",
              "      <th>24561</th>\n",
              "      <td>Volkswagen</td>\n",
              "      <td>Passat</td>\n",
              "      <td>1.8 T Comfortline</td>\n",
              "      <td>2.580</td>\n",
              "      <td>Düz</td>\n",
              "      <td>LPG &amp; Benzin</td>\n",
              "      <td>Sedan</td>\n",
              "      <td>Gri (Gümüş)</td>\n",
              "      <td>1781.0</td>\n",
              "      <td>150.0</td>\n",
              "      <td>Önden Çekiş</td>\n",
              "      <td>7.9</td>\n",
              "      <td>62.0</td>\n",
              "      <td>1 değişen, 4 boyalı</td>\n",
              "      <td>415000.0</td>\n",
              "      <td>25.0</td>\n",
              "    </tr>\n",
              "    <tr>\n",
              "      <th>24564</th>\n",
              "      <td>Volkswagen</td>\n",
              "      <td>Passat</td>\n",
              "      <td>1.6 TDi BlueMotion Comfortline</td>\n",
              "      <td>2.756</td>\n",
              "      <td>Yarı Otomatik</td>\n",
              "      <td>Dizel</td>\n",
              "      <td>Sedan</td>\n",
              "      <td>Beyaz</td>\n",
              "      <td>1598.0</td>\n",
              "      <td>120.0</td>\n",
              "      <td>Önden Çekiş</td>\n",
              "      <td>4.0</td>\n",
              "      <td>66.0</td>\n",
              "      <td>2 boyalı</td>\n",
              "      <td>930000.0</td>\n",
              "      <td>8.0</td>\n",
              "    </tr>\n",
              "    <tr>\n",
              "      <th>24570</th>\n",
              "      <td>Volkswagen</td>\n",
              "      <td>Polo</td>\n",
              "      <td>1.4 TSi GTi</td>\n",
              "      <td>1.920</td>\n",
              "      <td>Yarı Otomatik</td>\n",
              "      <td>Benzin</td>\n",
              "      <td>Hatchback/3</td>\n",
              "      <td>Kırmızı</td>\n",
              "      <td>1390.0</td>\n",
              "      <td>180.0</td>\n",
              "      <td>Önden Çekiş</td>\n",
              "      <td>5.8</td>\n",
              "      <td>45.0</td>\n",
              "      <td>Tamamı orjinal</td>\n",
              "      <td>760000.0</td>\n",
              "      <td>12.0</td>\n",
              "    </tr>\n",
              "    <tr>\n",
              "      <th>24573</th>\n",
              "      <td>Volkswagen</td>\n",
              "      <td>Golf</td>\n",
              "      <td>1.0 TSi Comfortline</td>\n",
              "      <td>1.290</td>\n",
              "      <td>Yarı Otomatik</td>\n",
              "      <td>Benzin</td>\n",
              "      <td>Hatchback/5</td>\n",
              "      <td>Beyaz</td>\n",
              "      <td>999.0</td>\n",
              "      <td>115.0</td>\n",
              "      <td>Önden Çekiş</td>\n",
              "      <td>4.8</td>\n",
              "      <td>50.0</td>\n",
              "      <td>Tamamı orjinal</td>\n",
              "      <td>896000.0</td>\n",
              "      <td>4.0</td>\n",
              "    </tr>\n",
              "    <tr>\n",
              "      <th>24575</th>\n",
              "      <td>Volkswagen</td>\n",
              "      <td>Passat</td>\n",
              "      <td>1.4 TSi Comfortline</td>\n",
              "      <td>2.160</td>\n",
              "      <td>Otomatik</td>\n",
              "      <td>Benzin</td>\n",
              "      <td>Sedan</td>\n",
              "      <td>Gri</td>\n",
              "      <td>1390.0</td>\n",
              "      <td>122.0</td>\n",
              "      <td>Önden Çekiş</td>\n",
              "      <td>6.6</td>\n",
              "      <td>70.0</td>\n",
              "      <td>1 değişen, 2 boyalı</td>\n",
              "      <td>715000.0</td>\n",
              "      <td>14.0</td>\n",
              "    </tr>\n",
              "  </tbody>\n",
              "</table>\n",
              "<p>11815 rows × 16 columns</p>\n",
              "</div>\n",
              "    <div class=\"colab-df-buttons\">\n",
              "\n",
              "  <div class=\"colab-df-container\">\n",
              "    <button class=\"colab-df-convert\" onclick=\"convertToInteractive('df-dc9ce65a-9627-426e-bdb9-2378118323f1')\"\n",
              "            title=\"Convert this dataframe to an interactive table.\"\n",
              "            style=\"display:none;\">\n",
              "\n",
              "  <svg xmlns=\"http://www.w3.org/2000/svg\" height=\"24px\" viewBox=\"0 -960 960 960\">\n",
              "    <path d=\"M120-120v-720h720v720H120Zm60-500h600v-160H180v160Zm220 220h160v-160H400v160Zm0 220h160v-160H400v160ZM180-400h160v-160H180v160Zm440 0h160v-160H620v160ZM180-180h160v-160H180v160Zm440 0h160v-160H620v160Z\"/>\n",
              "  </svg>\n",
              "    </button>\n",
              "\n",
              "  <style>\n",
              "    .colab-df-container {\n",
              "      display:flex;\n",
              "      gap: 12px;\n",
              "    }\n",
              "\n",
              "    .colab-df-convert {\n",
              "      background-color: #E8F0FE;\n",
              "      border: none;\n",
              "      border-radius: 50%;\n",
              "      cursor: pointer;\n",
              "      display: none;\n",
              "      fill: #1967D2;\n",
              "      height: 32px;\n",
              "      padding: 0 0 0 0;\n",
              "      width: 32px;\n",
              "    }\n",
              "\n",
              "    .colab-df-convert:hover {\n",
              "      background-color: #E2EBFA;\n",
              "      box-shadow: 0px 1px 2px rgba(60, 64, 67, 0.3), 0px 1px 3px 1px rgba(60, 64, 67, 0.15);\n",
              "      fill: #174EA6;\n",
              "    }\n",
              "\n",
              "    .colab-df-buttons div {\n",
              "      margin-bottom: 4px;\n",
              "    }\n",
              "\n",
              "    [theme=dark] .colab-df-convert {\n",
              "      background-color: #3B4455;\n",
              "      fill: #D2E3FC;\n",
              "    }\n",
              "\n",
              "    [theme=dark] .colab-df-convert:hover {\n",
              "      background-color: #434B5C;\n",
              "      box-shadow: 0px 1px 3px 1px rgba(0, 0, 0, 0.15);\n",
              "      filter: drop-shadow(0px 1px 2px rgba(0, 0, 0, 0.3));\n",
              "      fill: #FFFFFF;\n",
              "    }\n",
              "  </style>\n",
              "\n",
              "    <script>\n",
              "      const buttonEl =\n",
              "        document.querySelector('#df-dc9ce65a-9627-426e-bdb9-2378118323f1 button.colab-df-convert');\n",
              "      buttonEl.style.display =\n",
              "        google.colab.kernel.accessAllowed ? 'block' : 'none';\n",
              "\n",
              "      async function convertToInteractive(key) {\n",
              "        const element = document.querySelector('#df-dc9ce65a-9627-426e-bdb9-2378118323f1');\n",
              "        const dataTable =\n",
              "          await google.colab.kernel.invokeFunction('convertToInteractive',\n",
              "                                                    [key], {});\n",
              "        if (!dataTable) return;\n",
              "\n",
              "        const docLinkHtml = 'Like what you see? Visit the ' +\n",
              "          '<a target=\"_blank\" href=https://colab.research.google.com/notebooks/data_table.ipynb>data table notebook</a>'\n",
              "          + ' to learn more about interactive tables.';\n",
              "        element.innerHTML = '';\n",
              "        dataTable['output_type'] = 'display_data';\n",
              "        await google.colab.output.renderOutput(dataTable, element);\n",
              "        const docLink = document.createElement('div');\n",
              "        docLink.innerHTML = docLinkHtml;\n",
              "        element.appendChild(docLink);\n",
              "      }\n",
              "    </script>\n",
              "  </div>\n",
              "\n",
              "\n",
              "<div id=\"df-6db6f5b3-154d-481a-b6c8-75e26c29432d\">\n",
              "  <button class=\"colab-df-quickchart\" onclick=\"quickchart('df-6db6f5b3-154d-481a-b6c8-75e26c29432d')\"\n",
              "            title=\"Suggest charts\"\n",
              "            style=\"display:none;\">\n",
              "\n",
              "<svg xmlns=\"http://www.w3.org/2000/svg\" height=\"24px\"viewBox=\"0 0 24 24\"\n",
              "     width=\"24px\">\n",
              "    <g>\n",
              "        <path d=\"M19 3H5c-1.1 0-2 .9-2 2v14c0 1.1.9 2 2 2h14c1.1 0 2-.9 2-2V5c0-1.1-.9-2-2-2zM9 17H7v-7h2v7zm4 0h-2V7h2v10zm4 0h-2v-4h2v4z\"/>\n",
              "    </g>\n",
              "</svg>\n",
              "  </button>\n",
              "\n",
              "<style>\n",
              "  .colab-df-quickchart {\n",
              "      --bg-color: #E8F0FE;\n",
              "      --fill-color: #1967D2;\n",
              "      --hover-bg-color: #E2EBFA;\n",
              "      --hover-fill-color: #174EA6;\n",
              "      --disabled-fill-color: #AAA;\n",
              "      --disabled-bg-color: #DDD;\n",
              "  }\n",
              "\n",
              "  [theme=dark] .colab-df-quickchart {\n",
              "      --bg-color: #3B4455;\n",
              "      --fill-color: #D2E3FC;\n",
              "      --hover-bg-color: #434B5C;\n",
              "      --hover-fill-color: #FFFFFF;\n",
              "      --disabled-bg-color: #3B4455;\n",
              "      --disabled-fill-color: #666;\n",
              "  }\n",
              "\n",
              "  .colab-df-quickchart {\n",
              "    background-color: var(--bg-color);\n",
              "    border: none;\n",
              "    border-radius: 50%;\n",
              "    cursor: pointer;\n",
              "    display: none;\n",
              "    fill: var(--fill-color);\n",
              "    height: 32px;\n",
              "    padding: 0;\n",
              "    width: 32px;\n",
              "  }\n",
              "\n",
              "  .colab-df-quickchart:hover {\n",
              "    background-color: var(--hover-bg-color);\n",
              "    box-shadow: 0 1px 2px rgba(60, 64, 67, 0.3), 0 1px 3px 1px rgba(60, 64, 67, 0.15);\n",
              "    fill: var(--button-hover-fill-color);\n",
              "  }\n",
              "\n",
              "  .colab-df-quickchart-complete:disabled,\n",
              "  .colab-df-quickchart-complete:disabled:hover {\n",
              "    background-color: var(--disabled-bg-color);\n",
              "    fill: var(--disabled-fill-color);\n",
              "    box-shadow: none;\n",
              "  }\n",
              "\n",
              "  .colab-df-spinner {\n",
              "    border: 2px solid var(--fill-color);\n",
              "    border-color: transparent;\n",
              "    border-bottom-color: var(--fill-color);\n",
              "    animation:\n",
              "      spin 1s steps(1) infinite;\n",
              "  }\n",
              "\n",
              "  @keyframes spin {\n",
              "    0% {\n",
              "      border-color: transparent;\n",
              "      border-bottom-color: var(--fill-color);\n",
              "      border-left-color: var(--fill-color);\n",
              "    }\n",
              "    20% {\n",
              "      border-color: transparent;\n",
              "      border-left-color: var(--fill-color);\n",
              "      border-top-color: var(--fill-color);\n",
              "    }\n",
              "    30% {\n",
              "      border-color: transparent;\n",
              "      border-left-color: var(--fill-color);\n",
              "      border-top-color: var(--fill-color);\n",
              "      border-right-color: var(--fill-color);\n",
              "    }\n",
              "    40% {\n",
              "      border-color: transparent;\n",
              "      border-right-color: var(--fill-color);\n",
              "      border-top-color: var(--fill-color);\n",
              "    }\n",
              "    60% {\n",
              "      border-color: transparent;\n",
              "      border-right-color: var(--fill-color);\n",
              "    }\n",
              "    80% {\n",
              "      border-color: transparent;\n",
              "      border-right-color: var(--fill-color);\n",
              "      border-bottom-color: var(--fill-color);\n",
              "    }\n",
              "    90% {\n",
              "      border-color: transparent;\n",
              "      border-bottom-color: var(--fill-color);\n",
              "    }\n",
              "  }\n",
              "</style>\n",
              "\n",
              "  <script>\n",
              "    async function quickchart(key) {\n",
              "      const quickchartButtonEl =\n",
              "        document.querySelector('#' + key + ' button');\n",
              "      quickchartButtonEl.disabled = true;  // To prevent multiple clicks.\n",
              "      quickchartButtonEl.classList.add('colab-df-spinner');\n",
              "      try {\n",
              "        const charts = await google.colab.kernel.invokeFunction(\n",
              "            'suggestCharts', [key], {});\n",
              "      } catch (error) {\n",
              "        console.error('Error during call to suggestCharts:', error);\n",
              "      }\n",
              "      quickchartButtonEl.classList.remove('colab-df-spinner');\n",
              "      quickchartButtonEl.classList.add('colab-df-quickchart-complete');\n",
              "    }\n",
              "    (() => {\n",
              "      let quickchartButtonEl =\n",
              "        document.querySelector('#df-6db6f5b3-154d-481a-b6c8-75e26c29432d button');\n",
              "      quickchartButtonEl.style.display =\n",
              "        google.colab.kernel.accessAllowed ? 'block' : 'none';\n",
              "    })();\n",
              "  </script>\n",
              "</div>\n",
              "    </div>\n",
              "  </div>\n"
            ]
          },
          "metadata": {},
          "execution_count": 8
        }
      ],
      "source": [
        "df_motorleistung"
      ]
    },
    {
      "cell_type": "markdown",
      "source": [
        "<style>\n",
        "    .gradient-background {\n",
        "        background: linear-gradient(to right, #b3ffb3, #006600);  /* Light green to dark green gradient, adjust colors as needed */\n",
        "        padding: 10px;\n",
        "        border-radius: 5px;\n",
        "    }\n",
        "</style>\n",
        "\n",
        "<div class=\"gradient-background\">\n",
        "    <h2 style=\"font-size: 15px;\">Was ist die Wahrscheinlichkeit für das Auftreten des ersten Ereignisses unter der Bedingung des Auftretens des zweiten Ereignisses?</h2>\n",
        "</div>\n",
        "</div>"
      ],
      "metadata": {
        "id": "RtA5BTYYEobv"
      },
      "id": "RtA5BTYYEobv"
    },
    {
      "cell_type": "markdown",
      "source": [
        "Die Wahrscheinlichkeit, dass die Motorleistung größer als 100 ist, wenn der Preis 800.000 TL beträgt:\n",
        "\n",
        "* motorleistung_preis_count = P(A∩B)\n",
        "\n",
        "* df_motorleistung = P(A)\n",
        "* P(B|A)= P(A∩B) / P(A)\n",
        "\n",
        "gibt es der Wert der Wahrscheinlichkeit für das Auftreten des ersten Ereignisses unter der Bedingung des Auftretens des zweiten Ereignisses.\n",
        "\n",
        "\n",
        "\n",
        "\n",
        "\n"
      ],
      "metadata": {
        "id": "Egy5t3_iHFWX"
      },
      "id": "Egy5t3_iHFWX"
    },
    {
      "cell_type": "code",
      "execution_count": null,
      "id": "aef7c7fd",
      "metadata": {
        "id": "aef7c7fd",
        "outputId": "66ab2505-ade4-4db2-b559-f19f6e40f8c6",
        "colab": {
          "base_uri": "https://localhost:8080/"
        }
      },
      "outputs": [
        {
          "output_type": "stream",
          "name": "stdout",
          "text": [
            "Wahrscheinlichkeit, dass „Preis“ größer als 800.000 ist, wenn „Motorleistung“ größer als 110 ist:  0.48404570461278035\n"
          ]
        }
      ],
      "source": [
        "#Wir berechnen die Wahrscheinlichkeit,\n",
        "#dass der \"Preis\" größer als 800.000 ist, wenn die \"Motorleistung\" größer als 110 ist.\n",
        "\n",
        "motorleistung_preis_count = (df_motorleistung['Preis'] >= 800000).sum()\n",
        "motorleistung_preis_prob = motorleistung_preis_count / len(df_motorleistung)\n",
        "print('Wahrscheinlichkeit, dass „Preis“ größer als 800.000 ist, wenn „Motorleistung“ größer als 110 ist: ', motorleistung_preis_prob)"
      ]
    },
    {
      "cell_type": "markdown",
      "source": [
        "<style>\n",
        "    .gradient-background {\n",
        "        background: linear-gradient(to right, #b3ffb3, #006600);  /* Light green to dark green gradient, adjust colors as needed */\n",
        "        padding: 10px;\n",
        "        border-radius: 5px;\n",
        "    }\n",
        "</style>\n",
        "\n",
        "<div class=\"gradient-background\">\n",
        "    <h2 style=\"font-size: 15px;\"> Was ist die Wahrscheinlichkeit für das Auftreten des zweiten Ereignisses unter der Bedingung des Auftretens des ersten Ereignisses?</h2>\n",
        "</div>\n",
        "</div>"
      ],
      "metadata": {
        "id": "upairJV7EpGf"
      },
      "id": "upairJV7EpGf"
    },
    {
      "cell_type": "markdown",
      "source": [
        "P(A∣B) wird berechnet durch (P(B∣A)⋅P(A)) / P(B) nach **Satz von Bayes**.\n",
        "Mit anderen Worten: Wir müssen den P(B|A) Wert, der 0,47 beträgt, mit dem P(A) Wert, der **df_motorleistung** ist, multiplizieren und ihn durch den P(B) Wert, der **preis_wahrscheinlichkeit** ist, dividieren. gibt.\n"
      ],
      "metadata": {
        "id": "CZgo6YRaI2yF"
      },
      "id": "CZgo6YRaI2yF"
    },
    {
      "cell_type": "code",
      "execution_count": null,
      "id": "eb52760e",
      "metadata": {
        "id": "eb52760e",
        "outputId": "536f091a-b551-4cb2-87f2-26058836e52b",
        "colab": {
          "base_uri": "https://localhost:8080/"
        }
      },
      "outputs": [
        {
          "output_type": "stream",
          "name": "stdout",
          "text": [
            "Wahrscheinlichkeit, dass „Motorleistung“ größer als 110 ist, wenn „Preis“ größer als 800.000 ist:  0.8561377245508983\n"
          ]
        }
      ],
      "source": [
        "#Satz von Bayes\n",
        "#Dank des Bayes-Theorems berechnen wir unter Verwendung unserer vorherigen Berechnungen einfach die Wahrscheinlichkeit,\n",
        "#dass „Motorleistung“ mehr als 110 beträgt, wenn „Preis“ mehr als 800.000 beträgt.\n",
        "preis_motorleistung_prob = (motorleistung_preis_prob * motorleistung_probability ) / price_probability\n",
        "print('Wahrscheinlichkeit, dass „Motorleistung“ größer als 110 ist, wenn „Preis“ größer als 800.000 ist: ', preis_motorleistung_prob)"
      ]
    },
    {
      "cell_type": "code",
      "source": [
        "#Ermittlung der Wahrscheinlichkeit von Fahrzeugen mit Alter von weniger als 7\n",
        "p_A = len(df[df['Alter']<=7]) / len(df['Alter'])\n",
        "print('Probability: ', p_A)"
      ],
      "metadata": {
        "colab": {
          "base_uri": "https://localhost:8080/"
        },
        "id": "WU_64qYztK-x",
        "outputId": "608edb33-c4a2-4a9e-96d4-510fb3a320b6"
      },
      "id": "WU_64qYztK-x",
      "execution_count": null,
      "outputs": [
        {
          "output_type": "stream",
          "name": "stdout",
          "text": [
            "Probability:  0.2707892595606184\n"
          ]
        }
      ]
    },
    {
      "cell_type": "code",
      "source": [
        "#Wahrscheinlichkeit eines Fahrzeugs mit einem Kilometer von mehr als 1000\n",
        "p_B = len(df[df['Kilometer'] >= 1]) / len(df['Kilometer'])\n",
        "print('Probability: ', p_B)"
      ],
      "metadata": {
        "colab": {
          "base_uri": "https://localhost:8080/"
        },
        "id": "oeNDnUXWtKuy",
        "outputId": "35231fd2-0594-4f90-c1d8-8562406cc795"
      },
      "id": "oeNDnUXWtKuy",
      "execution_count": null,
      "outputs": [
        {
          "output_type": "stream",
          "name": "stdout",
          "text": [
            "Probability:  0.7877542717656631\n"
          ]
        }
      ]
    },
    {
      "cell_type": "code",
      "source": [
        "df_p_A = df.copy()\n",
        "df_p__A = df[df[\"Alter\"] <=7 ]"
      ],
      "metadata": {
        "id": "EXRLcMq-tKmK"
      },
      "id": "EXRLcMq-tKmK",
      "execution_count": null,
      "outputs": []
    },
    {
      "cell_type": "code",
      "source": [
        "#Wir berechnen die Wahrscheinlichkeit,\n",
        "#dass der \"Kilometer\" größer als 1 ist, wenn das \"Alter\" kleiner als 7 ist.\n",
        "\n",
        "p_A_ = (df_p_A['Kilometer'] >= 1).sum()\n",
        "p_A_B = p_A_ / len(df_p_A)\n",
        "print('Wahrscheinlichkeit, dass „Kilometer“ größer als 1 ist, wenn „Alter\" kleiner als 7 ist: ', p_B_A)"
      ],
      "metadata": {
        "colab": {
          "base_uri": "https://localhost:8080/",
          "height": 245
        },
        "id": "qK3n0W-6tKUp",
        "outputId": "02d13040-9007-4688-eddf-5842d5e3381d"
      },
      "id": "qK3n0W-6tKUp",
      "execution_count": null,
      "outputs": [
        {
          "output_type": "error",
          "ename": "NameError",
          "evalue": "name 'df_p_A' is not defined",
          "traceback": [
            "\u001b[0;31m---------------------------------------------------------------------------\u001b[0m",
            "\u001b[0;31mNameError\u001b[0m                                 Traceback (most recent call last)",
            "\u001b[0;32m<ipython-input-1-6453d79d3055>\u001b[0m in \u001b[0;36m<cell line: 4>\u001b[0;34m()\u001b[0m\n\u001b[1;32m      2\u001b[0m \u001b[0;31m#dass der \"Kilometer\" größer als 1 ist, wenn das \"Alter\" kleiner als 7 ist.\u001b[0m\u001b[0;34m\u001b[0m\u001b[0;34m\u001b[0m\u001b[0m\n\u001b[1;32m      3\u001b[0m \u001b[0;34m\u001b[0m\u001b[0m\n\u001b[0;32m----> 4\u001b[0;31m \u001b[0mp_A_\u001b[0m \u001b[0;34m=\u001b[0m \u001b[0;34m(\u001b[0m\u001b[0mdf_p_A\u001b[0m\u001b[0;34m[\u001b[0m\u001b[0;34m'Kilometer'\u001b[0m\u001b[0;34m]\u001b[0m \u001b[0;34m>=\u001b[0m \u001b[0;36m1\u001b[0m\u001b[0;34m)\u001b[0m\u001b[0;34m.\u001b[0m\u001b[0msum\u001b[0m\u001b[0;34m(\u001b[0m\u001b[0;34m)\u001b[0m\u001b[0;34m\u001b[0m\u001b[0;34m\u001b[0m\u001b[0m\n\u001b[0m\u001b[1;32m      5\u001b[0m \u001b[0mp_A_B\u001b[0m \u001b[0;34m=\u001b[0m \u001b[0mp_A_\u001b[0m \u001b[0;34m/\u001b[0m \u001b[0mlen\u001b[0m\u001b[0;34m(\u001b[0m\u001b[0mdf_p_A\u001b[0m\u001b[0;34m)\u001b[0m\u001b[0;34m\u001b[0m\u001b[0;34m\u001b[0m\u001b[0m\n\u001b[1;32m      6\u001b[0m \u001b[0mprint\u001b[0m\u001b[0;34m(\u001b[0m\u001b[0;34m'Wahrscheinlichkeit, dass „Kilometer“ größer als 1 ist, wenn „Alter\" kleiner als 7 ist: '\u001b[0m\u001b[0;34m,\u001b[0m \u001b[0mp_B_A\u001b[0m\u001b[0;34m)\u001b[0m\u001b[0;34m\u001b[0m\u001b[0;34m\u001b[0m\u001b[0m\n",
            "\u001b[0;31mNameError\u001b[0m: name 'df_p_A' is not defined"
          ]
        }
      ]
    },
    {
      "cell_type": "code",
      "source": [
        "#Satz von Bayes\n",
        "#Dank des Bayes-Theorems berechnen wir unter Verwendung unserer vorherigen Berechnungen einfach die Wahrscheinlichkeit,\n",
        "#dass „Alter“ weniger als 7 beträgt, wenn „Kilometer“ mehr als 1 beträgt.\n",
        "p_B_A = (p_A_B * p_A ) /p_B\n",
        "print('Wahrscheinlichkeit, dass „Kilometer“ größer als 1 ist, wenn „Alter“ kleier als 7 ist: ', p_B_A)"
      ],
      "metadata": {
        "colab": {
          "base_uri": "https://localhost:8080/"
        },
        "id": "YjigxCiFvpvG",
        "outputId": "1a84ab42-b39d-44c1-9c2f-4fa12cc9f420"
      },
      "id": "YjigxCiFvpvG",
      "execution_count": null,
      "outputs": [
        {
          "output_type": "stream",
          "name": "stdout",
          "text": [
            "Wahrscheinlichkeit, dass „Kilometer“ größer als 1 ist, wenn „Alter“ kleier als 7 ist:  0.2707892595606184\n"
          ]
        }
      ]
    },
    {
      "cell_type": "markdown",
      "source": [
        "<style>\n",
        "    .gradient-background {\n",
        "        background: linear-gradient(to right, #b3ffb3, #006600);  /* Light green to dark green gradient, adjust colors as needed */\n",
        "        padding: 10px;\n",
        "        border-radius: 5px;\n",
        "    }\n",
        "</style>\n",
        "\n",
        "<div class=\"gradient-background\">\n",
        "    <h2 style=\"font-size: 15px;\"><b>Hypothesen</b></h2>\n",
        "</div>\n",
        "</div>"
      ],
      "metadata": {
        "id": "4GaYDpMcKART"
      },
      "id": "4GaYDpMcKART"
    },
    {
      "cell_type": "markdown",
      "source": [
        "Basierend auf den Daten, die wir im Visualisierungsteil über die Beziehungen zwischen ihnen gelernt haben, und auch auf den Zahlen, die wir im Wahrscheinlichkeitsteil berechnet haben, verfügen wir nun über viele Informationen, die wir hypothetisch aufstellen können.\n",
        "Angesichts all dieser Informationen bestand unser Ziel darin, unsere Nullhypothesen zu bestimmen und ihre Richtigkeit zu testen.\n",
        "Mit diesen Informationen haben wir zur Arbeitsweise unserer Modelle beigetragen."
      ],
      "metadata": {
        "id": "AFceFfJyzg1S"
      },
      "id": "AFceFfJyzg1S"
    },
    {
      "cell_type": "markdown",
      "source": [
        "<style>\n",
        "    .gradient-background {\n",
        "        background: linear-gradient(to right, #b3ffb3, #006600);  /* Light green to dark green gradient, adjust colors as needed */\n",
        "        padding: 10px;\n",
        "        border-radius: 5px;\n",
        "    }\n",
        "</style>\n",
        "\n",
        "<div class=\"gradient-background\">\n",
        "    <h2 style=\"font-size: 15px;\">Was sind die Nullhypothesen und was sind die alternativen Hypothesen?</h2>\n",
        "</div>\n",
        "</div>"
      ],
      "metadata": {
        "id": "HtLmdfdoKNCc"
      },
      "id": "HtLmdfdoKNCc"
    },
    {
      "cell_type": "markdown",
      "source": [
        "**<i>1.Beispiel:</i>**\n",
        "\n",
        "**H0**: Der Durchschnitt des Motorleistungsdatensatzes zeigt mit 110 keinen statistisch signifikanten Unterschied.\n",
        "\n",
        "**H1**: Der Durchschnitt des Motorleistungsdatensatzes zeigt mit 110 einen statistisch signifikanten Unterschied.\n",
        "\n",
        "**<i>2.Beispiel:</i>**\n",
        "\n",
        "**H0**: Es besteht keine statistische Signifikanz zwischen Preis und Motorleistung.\n",
        "\n",
        "**H1**: Es besteht eine statistische Signifikanz zwischen Preis und Motorleistung.\n",
        "\n",
        "**<i>3.Beispiel:</i>**\n",
        "\n",
        "**H0**: Es gibt keinen statistischen Signifikanzunterschied, da der Durchschnitt der Spalte „Preis“ bei 650.000 liegt.\n",
        "\n",
        "**H1**: Es besteht ein statistisch signifikanter Unterschied zwischen  der Durchschnitt der Spalte „Preis“ und 650000.\n"
      ],
      "metadata": {
        "id": "wR0MfdzTf8Gz"
      },
      "id": "wR0MfdzTf8Gz"
    },
    {
      "cell_type": "markdown",
      "source": [
        "<style>\n",
        "    .gradient-background {\n",
        "        background: linear-gradient(to right, #b3ffb3, #006600);  /* Light green to dark green gradient, adjust colors as needed */\n",
        "        padding: 10px;\n",
        "        border-radius: 5px;\n",
        "    }\n",
        "</style>\n",
        "\n",
        "<div class=\"gradient-background\">\n",
        "    <h2 style=\"font-size: 15px;\"Welche Hypothesen lassen sich durch einen Hypothesentest verwerfen oder bestätigen?</h2>\n",
        "</div>\n",
        "</div>"
      ],
      "metadata": {
        "id": "P2ihC0GAKbk9"
      },
      "id": "P2ihC0GAKbk9"
    },
    {
      "cell_type": "markdown",
      "source": [
        "<style>\n",
        "    .gradient-background {\n",
        "        background: linear-gradient(to right, #b3ffb3, #006600);  /* Light green to dark green gradient, adjust colors as needed */\n",
        "        padding: 10px;\n",
        "        border-radius: 5px;\n",
        "    }\n",
        "</style>\n",
        "\n",
        "<div class=\"gradient-background\">\n",
        "    <h2 style=\"font-size: 15px;\">Welche Hypothesen lassen sich durch einen Hypothesentest verwerfen oder bestätigen?</h2>\n",
        "</div>\n",
        "</div>"
      ],
      "metadata": {
        "id": "5XWNV6keKb9r"
      },
      "id": "5XWNV6keKb9r"
    },
    {
      "cell_type": "markdown",
      "source": [
        "* <i>1.Beispiel:</i>\n",
        "\n",
        "Da der t-Wert kritischer t-Wert im Minus- und Plusbereich bleibt, müssen wir die H0-Hypothese akzeptieren.Also, der Durchschnitt des Motorleistungsdatensatzes zeigt mit 110 keinen statistisch signifikanten Unterschied.Wir akzeptrieren H0.\n",
        "\n",
        "* <i> 2.Beispiel:</i>\n",
        "\n",
        "Wir lehnen die Nullhypothese ab, da der P-Wert kleiner als der Signifikanzwert von 0,05 ist und wir akzeptieren, dass es einen signifikanten Unterschied im statistischen Verhältnis in den Daten zwischen den beiden Spalten gibt. Wir lehnen die Nullhypothese ab.\n",
        "\n",
        "* <i> 3. Beispiel:</i>\n",
        "\n",
        "Als Ergebnis eines Stichproben-T-Tests war der p-Wert höher als die Signifikanz als Ergebnis des Tests der Preis-Spalte mit einem Wert von 650.000, was bedeutet, dass die Nullhypothese akzeptiert werden sollte. Dadurch besteht ein statistischer Signifikanzunterschied, und der Durchschnitt der Spalte „Preis“ liegt bei 650.000."
      ],
      "metadata": {
        "id": "_AlJX668ip4H"
      },
      "id": "_AlJX668ip4H"
    },
    {
      "cell_type": "code",
      "source": [
        "import scipy.stats as stats\n",
        "from scipy.stats import ttest_ind\n",
        "from scipy.stats import ttest_rel\n",
        "import math"
      ],
      "metadata": {
        "id": "gPwNuHK-Opvh"
      },
      "id": "gPwNuHK-Opvh",
      "execution_count": null,
      "outputs": []
    },
    {
      "cell_type": "markdown",
      "source": [
        "1.Beispiel\n",
        "\n",
        "Der t-Wert (0,82) ist kleiner als der kritische t-Wert (1,96). Daher lässt sich kein statistisch signifikanter Unterschied feststellen und die Nullhypothese (H0 := 110 μ=110) kann nicht verworfen werden. Das heißt, der Mittelwert des Datensatzes zeigt keinen statistisch signifikanten Unterschied zu 110.\n",
        "\n",
        "Folglich weist die Aussage „Nicht Ablehnen der Nullhypothese“ darauf hin, dass die Nullhypothese nicht abgelehnt wird und der Datensatz keinen signifikanten Unterschied zu einem gegebenen Wert aufweist."
      ],
      "metadata": {
        "id": "-8YKpAWqPTvK"
      },
      "id": "-8YKpAWqPTvK"
    },
    {
      "cell_type": "code",
      "source": [
        "data = df['Motorleistung']\n",
        "mu =  110 # Vorgegebene Toleranz\n",
        "alpha = 0.05  # Signifikanzniveau\n",
        "\n",
        "# Schritt 1: Durchschnitt und Standardabweichung berechnen\n",
        "mean = np.mean(data)\n",
        "std_dev = np.std(data, ddof=1) # Mit 'ddof=1' für N-1 Freiheitsgrade\n",
        "print(mean, std_dev)\n",
        "\n",
        "# Schritt 2: t-Wert und Freiheitsgrade berechnen\n",
        "n = len(data)\n",
        "t = (mean - mu) / (std_dev / np.sqrt(n))\n",
        "degrees_of_freedom = n - 1\n",
        "\n",
        "# Schritt 3: Kritischer t-Wert berechnen\n",
        "critical_value = stats.t.ppf(1 - alpha / 2, degrees_of_freedom)\n",
        "# Schritt 4: Entscheidung\n",
        "if abs(t) > critical_value:\n",
        "    # Ablehnen der Nullhypothese\n",
        "    result = f\"Ablehnen der Nullhypothese\"\n",
        "else:\n",
        "    # Nicht Ablehnen der Nullhypothese\n",
        "    result = f\"Nicht Ablehnen der Nullhypothese\"\n",
        "\n",
        "# Schritt 5: Ausgabe der Ergebnisse\n",
        "print(f\"t-Wert: {t}\")\n",
        "print(f\"Kritischer t-Wert: {critical_value}\")\n",
        "print(f\"Testergebnis: {result}\")"
      ],
      "metadata": {
        "colab": {
          "base_uri": "https://localhost:8080/"
        },
        "id": "lte3STSWO0Tl",
        "outputId": "775c8978-f4f9-4997-dd8a-3071b453b3c5"
      },
      "id": "lte3STSWO0Tl",
      "execution_count": null,
      "outputs": [
        {
          "output_type": "stream",
          "name": "stdout",
          "text": [
            "109.71129826274462 28.108239527260512\n",
            "t-Wert: -1.6102996211421046\n",
            "Kritischer t-Wert: 1.9600605053939646\n",
            "Testergebnis: Nicht Ablehnen der Nullhypothese\n"
          ]
        }
      ]
    },
    {
      "cell_type": "markdown",
      "source": [
        "  2.Beispiel\n",
        "\n",
        "  Independent Two-Sample T-Test\n",
        "\n",
        "\n",
        " Wenn zwei unabhängige Stichproben entnommen werden, lautet unsere Nullhypothese, dass es keinen signifikanten Unterschied zwischen den beiden Gruppen gibt und wir akzeptieren, dass sie nahezu die gleichen Informationen für das Training unseres Modells liefern. In diesem Beispiel besteht ein statistisch signifikanter Unterschied zwischen den Spalten Motorhubraum und Kraftstofftank. Dies führt dazu, dass wir meine Nullhypothese als Ergebnis des t-Tests ablehnen.\n",
        "\n"
      ],
      "metadata": {
        "id": "QtoOPfq3SxSl"
      },
      "id": "QtoOPfq3SxSl"
    },
    {
      "cell_type": "code",
      "source": [
        "from scipy.stats import ttest_ind\n",
        "\n",
        "group1 = df['Preis']\n",
        "group2 = df['Alter']\n",
        "\n",
        "t_stat, p_value = ttest_ind(group1, group2)\n",
        "if p_value < 0.05:\n",
        "    print(\"There is a statistically significant difference. The hypothesis was rejected.\")\n",
        "else:\n",
        "    print(\"There is no statistically significant difference. Hypothesis accepted.\")\n",
        "print(t_stat)\n",
        "print(p_value)"
      ],
      "metadata": {
        "colab": {
          "base_uri": "https://localhost:8080/"
        },
        "id": "ElxRzgNaPi6a",
        "outputId": "447bc5ff-3dde-487f-a216-33694f6fb1bb"
      },
      "id": "ElxRzgNaPi6a",
      "execution_count": null,
      "outputs": [
        {
          "output_type": "stream",
          "name": "stdout",
          "text": [
            "There is no statistically significant difference. Hypothesis accepted.\n",
            "nan\n",
            "nan\n"
          ]
        }
      ]
    },
    {
      "cell_type": "markdown",
      "source": [
        "3.Beispiel\n",
        "\n",
        "One Sample t-Test\n",
        "\n",
        "Wenn Sie eine Stichprobe aus der Preisspalte in diesem Datensatz entnehmen, unterscheidet sich der Durchschnitt dieser Stichprobe nicht wesentlich von 650.000. Wenn der p-Wert kleiner als Signifikanz ist, ist diese Hypothese falsch, aber in diesem Beispiel wurde nachgewiesen, dass der Mittelwert der Spalte „Preis“ mit 650.000 statistisch nicht signifikant ist, da der p-Wert größer als 0,05 ist."
      ],
      "metadata": {
        "id": "soIJyW-UbgrO"
      },
      "id": "soIJyW-UbgrO"
    },
    {
      "cell_type": "code",
      "source": [
        "# T-Test durchführen\n",
        "t_statistic, p_value = stats.ttest_1samp(df[\"Preis\"], 650000)\n",
        "\n",
        "# Ausgabe der Ergebnisse\n",
        "if p_value < 0.05:\n",
        "    print(\"There is a statistically significant difference. The hypothesis was rejected.\")\n",
        "else:\n",
        "    print(\"There is no statistically significant difference. Hypothesis accepted.\")\n",
        "print(\"T-Statistik:\", t_statistic)\n",
        "print(\"P-Wert:\", p_value)"
      ],
      "metadata": {
        "colab": {
          "base_uri": "https://localhost:8080/"
        },
        "id": "t-i2WIV8bhft",
        "outputId": "1fbe537a-fff7-4d83-e20a-e349c85748e3"
      },
      "id": "t-i2WIV8bhft",
      "execution_count": null,
      "outputs": [
        {
          "output_type": "stream",
          "name": "stdout",
          "text": [
            "There is no statistically significant difference. Hypothesis accepted.\n",
            "T-Statistik: nan\n",
            "P-Wert: nan\n"
          ]
        }
      ]
    },
    {
      "cell_type": "code",
      "source": [
        "from scipy.stats import ttest_ind\n",
        "\n",
        "group1 = df['Preis']\n",
        "group2 = df['Alter']\n",
        "\n",
        "t_stat, p_value = ttest_ind(group1, group2)\n",
        "if p_value < 0.05:\n",
        "    print(\"There is a statistically significant difference. The hypothesis was rejected.\")\n",
        "else:\n",
        "    print(\"There is no statistically significant difference. Hypothesis accepted.\")\n",
        "print(t_stat)\n",
        "print(p_value)"
      ],
      "metadata": {
        "id": "ejS9ldI50f0I"
      },
      "id": "ejS9ldI50f0I",
      "execution_count": null,
      "outputs": []
    },
    {
      "cell_type": "code",
      "source": [
        "from scipy.stats import ttest_ind\n",
        "\n",
        "group1 = df['Preis']\n",
        "group2 = df['Alter']\n",
        "\n",
        "t_stat, p_value = ttest_ind(group1, group2)\n",
        "if p_value < 0.05:\n",
        "    print(\"There is a statistically significant difference. The hypothesis was rejected.\")\n",
        "else:\n",
        "    print(\"There is no statistically significant difference. Hypothesis accepted.\")\n",
        "print(t_stat)\n",
        "print(p_value)"
      ],
      "metadata": {
        "id": "XagyAoM803ur"
      },
      "id": "XagyAoM803ur",
      "execution_count": null,
      "outputs": []
    },
    {
      "cell_type": "markdown",
      "source": [
        "<style>\n",
        "    .gradient-background {\n",
        "        background: linear-gradient(to right, #b3ffb3, #006600);  /* Light green to dark green gradient, adjust colors as needed */\n",
        "        padding: 10px;\n",
        "        border-radius: 5px;\n",
        "    }\n",
        "</style>\n",
        "\n",
        "<div class=\"gradient-background\">\n",
        "    <h2 style=\"font-size: 15px;\">Was sagen Signifikanzniveau und p-Wert über die Hypothesentests aus?</h2>\n",
        "</div>\n",
        "</div>"
      ],
      "metadata": {
        "id": "5LOJ-pztKtgX"
      },
      "id": "5LOJ-pztKtgX"
    },
    {
      "cell_type": "markdown",
      "source": [
        "**Signifikanz** <i>α</i> ist die Fehlerquote, die bei der Durchführung von Hypothesentests akzeptiert wird. Wenn beispielsweise α = 0,05 gewählt wurde, bedeutet dies, dass die Wahrscheinlichkeit, dass der Test fehlschlägt, bei 5 % liegt, wenn die Nullhypothese wahr ist.\n",
        "Wenn der p-Wert kleiner als α ist, wird die Nullhypothese verworfen und die Ergebnisse werden als „statistisch signifikant“ betrachtet.\n",
        "\n",
        "Ein kleiner **p-Wert** (normalerweise weniger als 0,05) führt dazu, dass die Nullhypothese abgelehnt und die Alternativhypothese akzeptiert wird. In diesem Fall gelten die Ergebnisse als „statistisch signifikant“.\n",
        "Ein großer p-Wert zeigt an, dass die Nullhypothese nicht abgelehnt wird und die Daten der Nullhypothese entsprechen.\n",
        "\n"
      ],
      "metadata": {
        "id": "3mV-PJmUmb9M"
      },
      "id": "3mV-PJmUmb9M"
    },
    {
      "cell_type": "markdown",
      "source": [
        "<style>\n",
        "    .gradient-background {\n",
        "        background: linear-gradient(to right, #b3ffb3, #006600);  /* Light green to dark green gradient, adjust colors as needed */\n",
        "        padding: 10px;\n",
        "        border-radius: 5px;\n",
        "    }\n",
        "</style>\n",
        "\n",
        "<div class=\"gradient-background\">\n",
        "    <h2 style=\"font-size: 15px;\"><b>Schlussfolgerung</b></h2>\n",
        "</div>\n",
        "</div>"
      ],
      "metadata": {
        "id": "IPqLIA5OoSis"
      },
      "id": "IPqLIA5OoSis"
    },
    {
      "cell_type": "markdown",
      "source": [
        "<style>\n",
        "    .gradient-background {\n",
        "        background: linear-gradient(to right, #b3ffb3, #006600);  /* Light green to dark green gradient, adjust colors as needed */\n",
        "        padding: 10px;\n",
        "        border-radius: 5px;\n",
        "    }\n",
        "</style>\n",
        "\n",
        "<div class=\"gradient-background\">\n",
        "    <h2 style=\"font-size: 15px;\">Welche Schlussfolgerungen lassen sich ableiten?</h2>\n",
        "</div>\n",
        "</div>"
      ],
      "metadata": {
        "id": "l1eoZ8afoV40"
      },
      "id": "l1eoZ8afoV40"
    },
    {
      "cell_type": "markdown",
      "source": [
        "Im Allgemein sind die Werte in den Spalten in sich konsistent und weichen kaum voneinander ab. Dies lässt sich daraus schließen, dass es bei der Entnahme einer Probe aus der Säule keinen statistisch signifikanten Unterschied zwischen dem Mittelwert und dem Durchschnitt gibt. In diesem Datensatz gab es keine zwei separaten Spalten, die keinen statistisch signifikanten Unterschied untereinander aufwiesen. Das bedeutet, dass es unter den derzeit verfügbaren Daten keine zwei separaten Spalten gibt, die uns nahezu die gleichen Informationen über vorhandene Autos liefern. Dadurch soll das System in den Phasen der Datenverarbeitung und des maschinellen Lernens konsistenter und zuverlässiger gemacht werden. Ein wichtiger und beachtenswerter Punkt zur Zeit- und Kosteneffizienz."
      ],
      "metadata": {
        "id": "-25Q797poy_v"
      },
      "id": "-25Q797poy_v"
    },
    {
      "cell_type": "markdown",
      "source": [
        "<style>\n",
        "    .gradient-background {\n",
        "        background: linear-gradient(to right, #b3ffb3, #006600);  /* Light green to dark green gradient, adjust colors as needed */\n",
        "        padding: 10px;\n",
        "        border-radius: 5px;\n",
        "    }\n",
        "</style>\n",
        "\n",
        "<div class=\"gradient-background\">\n",
        "    <h2 style=\"font-size: 15px;\">Wie aussagekräftig sind die Ergebnisse in welchen Grenzen?</h2>\n",
        "</div>\n",
        "</div>"
      ],
      "metadata": {
        "id": "rxQcf9zZofiW"
      },
      "id": "rxQcf9zZofiW"
    },
    {
      "cell_type": "markdown",
      "source": [
        "Insbesondere die Ergebnisse des unabhängigen T-Tests bei zwei Stichproben waren bedeutungslos. Meistens wurde der p-Wert als nan oder 0,0 angezeigt. Damit einher gingen einige sehr große T-Werte. Dieser Datensatz weist keine große Ähnlichkeit zwischen seinen Spalten auf und keine Spalte ist ähnlich genug, um eine andere Spalte zu ersetzen."
      ],
      "metadata": {
        "id": "ok3V_lVUozcX"
      },
      "id": "ok3V_lVUozcX"
    }
  ],
  "metadata": {
    "kernelspec": {
      "display_name": "Python 3 (ipykernel)",
      "language": "python",
      "name": "python3"
    },
    "language_info": {
      "codemirror_mode": {
        "name": "ipython",
        "version": 3
      },
      "file_extension": ".py",
      "mimetype": "text/x-python",
      "name": "python",
      "nbconvert_exporter": "python",
      "pygments_lexer": "ipython3",
      "version": "3.11.5"
    },
    "colab": {
      "provenance": []
    }
  },
  "nbformat": 4,
  "nbformat_minor": 5
}